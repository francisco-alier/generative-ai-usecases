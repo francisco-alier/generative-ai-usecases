{
 "cells": [
  {
   "cell_type": "markdown",
   "id": "a108af04",
   "metadata": {},
   "source": [
    "# Project 4 - Real Estate Listing"
   ]
  },
  {
   "cell_type": "markdown",
   "id": "529fe261",
   "metadata": {},
   "source": [
    "### Install and import packages"
   ]
  },
  {
   "cell_type": "code",
   "execution_count": 1,
   "id": "542dc6c0",
   "metadata": {},
   "outputs": [
    {
     "name": "stdout",
     "output_type": "stream",
     "text": [
      "# Existing Repository Requirements\r\n",
      "langchain==0.0.305\r\n",
      "openai==0.28.1\r\n",
      "pydantic>=1.10.12\r\n",
      "pytest>=7.4.0\r\n",
      "sentence-transformers==3.4.1\r\n",
      "transformers==4.49.0\r\n",
      "chromadb==0.4.12\r\n",
      "jupyter==1.0.0\r\n",
      "tiktoken==0.4.0\r\n",
      "pandas==2.2.3\r\n",
      "lancedb==0.20.0\r\n"
     ]
    }
   ],
   "source": [
    "!cat requirements.txt"
   ]
  },
  {
   "cell_type": "code",
   "execution_count": 2,
   "id": "9ea59251",
   "metadata": {},
   "outputs": [
    {
     "name": "stdout",
     "output_type": "stream",
     "text": [
      "Defaulting to user installation because normal site-packages is not writeable\n",
      "Requirement already satisfied: langchain==0.0.305 in /opt/conda/lib/python3.10/site-packages (from -r requirements.txt (line 2)) (0.0.305)\n",
      "Requirement already satisfied: openai==0.28.1 in /opt/conda/lib/python3.10/site-packages (from -r requirements.txt (line 3)) (0.28.1)\n",
      "Requirement already satisfied: pydantic>=1.10.12 in /opt/conda/lib/python3.10/site-packages (from -r requirements.txt (line 4)) (1.10.12)\n",
      "Requirement already satisfied: pytest>=7.4.0 in /opt/conda/lib/python3.10/site-packages (from -r requirements.txt (line 5)) (7.4.0)\n",
      "Collecting sentence-transformers==3.4.1\n",
      "  Downloading sentence_transformers-3.4.1-py3-none-any.whl (275 kB)\n",
      "\u001b[2K     \u001b[90m━━━━━━━━━━━━━━━━━━━━━━━━━━━━━━━━━━━━━━━\u001b[0m \u001b[32m275.9/275.9 kB\u001b[0m \u001b[31m3.8 MB/s\u001b[0m eta \u001b[36m0:00:00\u001b[0ma \u001b[36m0:00:01\u001b[0m\n",
      "\u001b[?25hCollecting transformers==4.49.0\n",
      "  Downloading transformers-4.49.0-py3-none-any.whl (10.0 MB)\n",
      "\u001b[2K     \u001b[90m━━━━━━━━━━━━━━━━━━━━━━━━━━━━━━━━━━━━━━━━\u001b[0m \u001b[32m10.0/10.0 MB\u001b[0m \u001b[31m71.1 MB/s\u001b[0m eta \u001b[36m0:00:00\u001b[0m00:01\u001b[0m00:01\u001b[0m\n",
      "\u001b[?25hRequirement already satisfied: chromadb==0.4.12 in /opt/conda/lib/python3.10/site-packages (from -r requirements.txt (line 8)) (0.4.12)\n",
      "Requirement already satisfied: jupyter==1.0.0 in /opt/conda/lib/python3.10/site-packages (from -r requirements.txt (line 9)) (1.0.0)\n",
      "Requirement already satisfied: tiktoken==0.4.0 in /opt/conda/lib/python3.10/site-packages (from -r requirements.txt (line 10)) (0.4.0)\n",
      "Collecting pandas==2.2.3\n",
      "  Downloading pandas-2.2.3-cp310-cp310-manylinux_2_17_x86_64.manylinux2014_x86_64.whl (13.1 MB)\n",
      "\u001b[2K     \u001b[90m━━━━━━━━━━━━━━━━━━━━━━━━━━━━━━━━━━━━━━━━\u001b[0m \u001b[32m13.1/13.1 MB\u001b[0m \u001b[31m77.8 MB/s\u001b[0m eta \u001b[36m0:00:00\u001b[0m00:01\u001b[0m00:01\u001b[0m\n",
      "\u001b[?25hCollecting lancedb==0.20.0\n",
      "  Downloading lancedb-0.20.0-cp39-abi3-manylinux_2_28_x86_64.whl (32.6 MB)\n",
      "\u001b[2K     \u001b[90m━━━━━━━━━━━━━━━━━━━━━━━━━━━━━━━━━━━━━━━━\u001b[0m \u001b[32m32.6/32.6 MB\u001b[0m \u001b[31m42.9 MB/s\u001b[0m eta \u001b[36m0:00:00\u001b[0m00:01\u001b[0m00:01\u001b[0m\n",
      "\u001b[?25hRequirement already satisfied: tenacity<9.0.0,>=8.1.0 in /opt/conda/lib/python3.10/site-packages (from langchain==0.0.305->-r requirements.txt (line 2)) (8.3.0)\n",
      "Requirement already satisfied: anyio<4.0 in /opt/conda/lib/python3.10/site-packages (from langchain==0.0.305->-r requirements.txt (line 2)) (3.7.1)\n",
      "Requirement already satisfied: aiohttp<4.0.0,>=3.8.3 in /opt/conda/lib/python3.10/site-packages (from langchain==0.0.305->-r requirements.txt (line 2)) (3.9.5)\n",
      "Requirement already satisfied: jsonpatch<2.0,>=1.33 in /opt/conda/lib/python3.10/site-packages (from langchain==0.0.305->-r requirements.txt (line 2)) (1.33)\n",
      "Requirement already satisfied: async-timeout<5.0.0,>=4.0.0 in /opt/conda/lib/python3.10/site-packages (from langchain==0.0.305->-r requirements.txt (line 2)) (4.0.3)\n",
      "Requirement already satisfied: PyYAML>=5.3 in /opt/conda/lib/python3.10/site-packages (from langchain==0.0.305->-r requirements.txt (line 2)) (6.0)\n",
      "Requirement already satisfied: numpy<2,>=1 in /opt/conda/lib/python3.10/site-packages (from langchain==0.0.305->-r requirements.txt (line 2)) (1.24.3)\n",
      "Requirement already satisfied: SQLAlchemy<3,>=1.4 in /opt/conda/lib/python3.10/site-packages (from langchain==0.0.305->-r requirements.txt (line 2)) (2.0.30)\n",
      "Requirement already satisfied: numexpr<3.0.0,>=2.8.4 in /opt/conda/lib/python3.10/site-packages (from langchain==0.0.305->-r requirements.txt (line 2)) (2.10.0)\n",
      "Requirement already satisfied: dataclasses-json<0.7,>=0.5.7 in /opt/conda/lib/python3.10/site-packages (from langchain==0.0.305->-r requirements.txt (line 2)) (0.6.6)\n",
      "Requirement already satisfied: langsmith<0.1.0,>=0.0.38 in /opt/conda/lib/python3.10/site-packages (from langchain==0.0.305->-r requirements.txt (line 2)) (0.0.92)\n",
      "Requirement already satisfied: requests<3,>=2 in /opt/conda/lib/python3.10/site-packages (from langchain==0.0.305->-r requirements.txt (line 2)) (2.29.0)\n",
      "Requirement already satisfied: tqdm in /opt/conda/lib/python3.10/site-packages (from openai==0.28.1->-r requirements.txt (line 3)) (4.65.0)\n",
      "Requirement already satisfied: Pillow in /opt/conda/lib/python3.10/site-packages (from sentence-transformers==3.4.1->-r requirements.txt (line 6)) (9.4.0)\n",
      "Requirement already satisfied: torch>=1.11.0 in /opt/conda/lib/python3.10/site-packages (from sentence-transformers==3.4.1->-r requirements.txt (line 6)) (2.0.1)\n",
      "Requirement already satisfied: scipy in /opt/conda/lib/python3.10/site-packages (from sentence-transformers==3.4.1->-r requirements.txt (line 6)) (1.13.0)\n",
      "Requirement already satisfied: scikit-learn in /opt/conda/lib/python3.10/site-packages (from sentence-transformers==3.4.1->-r requirements.txt (line 6)) (1.4.2)\n",
      "Requirement already satisfied: huggingface-hub>=0.20.0 in /opt/conda/lib/python3.10/site-packages (from sentence-transformers==3.4.1->-r requirements.txt (line 6)) (0.23.0)\n",
      "Collecting huggingface-hub>=0.20.0\n",
      "  Downloading huggingface_hub-0.29.2-py3-none-any.whl (468 kB)\n",
      "\u001b[2K     \u001b[90m━━━━━━━━━━━━━━━━━━━━━━━━━━━━━━━━━━━━━━\u001b[0m \u001b[32m468.1/468.1 kB\u001b[0m \u001b[31m44.4 MB/s\u001b[0m eta \u001b[36m0:00:00\u001b[0m\n",
      "\u001b[?25hCollecting tokenizers<0.22,>=0.21\n",
      "  Downloading tokenizers-0.21.0-cp39-abi3-manylinux_2_17_x86_64.manylinux2014_x86_64.whl (3.0 MB)\n",
      "\u001b[2K     \u001b[90m━━━━━━━━━━━━━━━━━━━━━━━━━━━━━━━━━━━━━━━━\u001b[0m \u001b[32m3.0/3.0 MB\u001b[0m \u001b[31m73.9 MB/s\u001b[0m eta \u001b[36m0:00:00\u001b[0m:00:01\u001b[0m\n",
      "\u001b[?25hRequirement already satisfied: safetensors>=0.4.1 in /opt/conda/lib/python3.10/site-packages (from transformers==4.49.0->-r requirements.txt (line 7)) (0.4.3)\n",
      "Requirement already satisfied: filelock in /opt/conda/lib/python3.10/site-packages (from transformers==4.49.0->-r requirements.txt (line 7)) (3.9.0)\n",
      "Requirement already satisfied: regex!=2019.12.17 in /opt/conda/lib/python3.10/site-packages (from transformers==4.49.0->-r requirements.txt (line 7)) (2024.5.15)\n",
      "Requirement already satisfied: packaging>=20.0 in /opt/conda/lib/python3.10/site-packages (from transformers==4.49.0->-r requirements.txt (line 7)) (23.0)\n",
      "Requirement already satisfied: pypika>=0.48.9 in /opt/conda/lib/python3.10/site-packages (from chromadb==0.4.12->-r requirements.txt (line 8)) (0.48.9)\n",
      "Requirement already satisfied: fastapi<0.100.0,>=0.95.2 in /opt/conda/lib/python3.10/site-packages (from chromadb==0.4.12->-r requirements.txt (line 8)) (0.99.1)\n",
      "Requirement already satisfied: pulsar-client>=3.1.0 in /opt/conda/lib/python3.10/site-packages (from chromadb==0.4.12->-r requirements.txt (line 8)) (3.5.0)\n",
      "Requirement already satisfied: typer>=0.9.0 in /opt/conda/lib/python3.10/site-packages (from chromadb==0.4.12->-r requirements.txt (line 8)) (0.12.3)\n",
      "Requirement already satisfied: typing-extensions>=4.5.0 in /opt/conda/lib/python3.10/site-packages (from chromadb==0.4.12->-r requirements.txt (line 8)) (4.11.0)\n",
      "Requirement already satisfied: uvicorn[standard]>=0.18.3 in /opt/conda/lib/python3.10/site-packages (from chromadb==0.4.12->-r requirements.txt (line 8)) (0.29.0)\n",
      "Requirement already satisfied: onnxruntime>=1.14.1 in /opt/conda/lib/python3.10/site-packages (from chromadb==0.4.12->-r requirements.txt (line 8)) (1.18.0)\n",
      "Requirement already satisfied: bcrypt>=4.0.1 in /opt/conda/lib/python3.10/site-packages (from chromadb==0.4.12->-r requirements.txt (line 8)) (4.1.3)\n",
      "Requirement already satisfied: chroma-hnswlib==0.7.3 in /opt/conda/lib/python3.10/site-packages (from chromadb==0.4.12->-r requirements.txt (line 8)) (0.7.3)\n",
      "Requirement already satisfied: overrides>=7.3.1 in /opt/conda/lib/python3.10/site-packages (from chromadb==0.4.12->-r requirements.txt (line 8)) (7.7.0)\n",
      "Requirement already satisfied: importlib-resources in /opt/conda/lib/python3.10/site-packages (from chromadb==0.4.12->-r requirements.txt (line 8)) (6.4.0)\n",
      "Requirement already satisfied: posthog>=2.4.0 in /opt/conda/lib/python3.10/site-packages (from chromadb==0.4.12->-r requirements.txt (line 8)) (3.5.0)\n",
      "Requirement already satisfied: qtconsole in /opt/conda/lib/python3.10/site-packages (from jupyter==1.0.0->-r requirements.txt (line 9)) (5.5.2)\n",
      "Requirement already satisfied: ipywidgets in /opt/conda/lib/python3.10/site-packages (from jupyter==1.0.0->-r requirements.txt (line 9)) (8.1.2)\n",
      "Requirement already satisfied: nbconvert in /opt/conda/lib/python3.10/site-packages (from jupyter==1.0.0->-r requirements.txt (line 9)) (7.16.4)\n",
      "Requirement already satisfied: notebook in /opt/conda/lib/python3.10/site-packages (from jupyter==1.0.0->-r requirements.txt (line 9)) (6.5.6)\n",
      "Requirement already satisfied: jupyter-console in /opt/conda/lib/python3.10/site-packages (from jupyter==1.0.0->-r requirements.txt (line 9)) (6.6.3)\n",
      "Requirement already satisfied: ipykernel in /opt/conda/lib/python3.10/site-packages (from jupyter==1.0.0->-r requirements.txt (line 9)) (6.29.4)\n"
     ]
    },
    {
     "name": "stdout",
     "output_type": "stream",
     "text": [
      "Requirement already satisfied: pytz>=2020.1 in /opt/conda/lib/python3.10/site-packages (from pandas==2.2.3->-r requirements.txt (line 11)) (2022.7)\n",
      "Requirement already satisfied: python-dateutil>=2.8.2 in /opt/conda/lib/python3.10/site-packages (from pandas==2.2.3->-r requirements.txt (line 11)) (2.9.0.post0)\n",
      "Collecting tzdata>=2022.7\n",
      "  Downloading tzdata-2025.1-py2.py3-none-any.whl (346 kB)\n",
      "\u001b[2K     \u001b[90m━━━━━━━━━━━━━━━━━━━━━━━━━━━━━━━━━━━━━━\u001b[0m \u001b[32m346.8/346.8 kB\u001b[0m \u001b[31m35.9 MB/s\u001b[0m eta \u001b[36m0:00:00\u001b[0m\n",
      "\u001b[?25hCollecting pylance~=0.23.2\n",
      "  Downloading pylance-0.23.2-cp39-abi3-manylinux_2_28_x86_64.whl (35.7 MB)\n",
      "\u001b[2K     \u001b[90m━━━━━━━━━━━━━━━━━━━━━━━━━━━━━━━━━━━━━━━━\u001b[0m \u001b[32m35.7/35.7 MB\u001b[0m \u001b[31m37.5 MB/s\u001b[0m eta \u001b[36m0:00:00\u001b[0m00:01\u001b[0m00:01\u001b[0m\n",
      "\u001b[?25hCollecting deprecation\n",
      "  Downloading deprecation-2.1.0-py2.py3-none-any.whl (11 kB)\n",
      "Requirement already satisfied: tomli>=1.0.0 in /opt/conda/lib/python3.10/site-packages (from pytest>=7.4.0->-r requirements.txt (line 5)) (2.0.1)\n",
      "Requirement already satisfied: pluggy<2.0,>=0.12 in /opt/conda/lib/python3.10/site-packages (from pytest>=7.4.0->-r requirements.txt (line 5)) (1.0.0)\n",
      "Requirement already satisfied: exceptiongroup>=1.0.0rc8 in /opt/conda/lib/python3.10/site-packages (from pytest>=7.4.0->-r requirements.txt (line 5)) (1.1.1)\n",
      "Requirement already satisfied: iniconfig in /opt/conda/lib/python3.10/site-packages (from pytest>=7.4.0->-r requirements.txt (line 5)) (2.0.0)\n",
      "Requirement already satisfied: frozenlist>=1.1.1 in /opt/conda/lib/python3.10/site-packages (from aiohttp<4.0.0,>=3.8.3->langchain==0.0.305->-r requirements.txt (line 2)) (1.4.1)\n",
      "Requirement already satisfied: attrs>=17.3.0 in /opt/conda/lib/python3.10/site-packages (from aiohttp<4.0.0,>=3.8.3->langchain==0.0.305->-r requirements.txt (line 2)) (23.1.0)\n",
      "Requirement already satisfied: yarl<2.0,>=1.0 in /opt/conda/lib/python3.10/site-packages (from aiohttp<4.0.0,>=3.8.3->langchain==0.0.305->-r requirements.txt (line 2)) (1.9.4)\n",
      "Requirement already satisfied: multidict<7.0,>=4.5 in /opt/conda/lib/python3.10/site-packages (from aiohttp<4.0.0,>=3.8.3->langchain==0.0.305->-r requirements.txt (line 2)) (6.0.5)\n",
      "Requirement already satisfied: aiosignal>=1.1.2 in /opt/conda/lib/python3.10/site-packages (from aiohttp<4.0.0,>=3.8.3->langchain==0.0.305->-r requirements.txt (line 2)) (1.3.1)\n",
      "Requirement already satisfied: sniffio>=1.1 in /opt/conda/lib/python3.10/site-packages (from anyio<4.0->langchain==0.0.305->-r requirements.txt (line 2)) (1.3.1)\n",
      "Requirement already satisfied: idna>=2.8 in /opt/conda/lib/python3.10/site-packages (from anyio<4.0->langchain==0.0.305->-r requirements.txt (line 2)) (3.4)\n",
      "Requirement already satisfied: typing-inspect<1,>=0.4.0 in /opt/conda/lib/python3.10/site-packages (from dataclasses-json<0.7,>=0.5.7->langchain==0.0.305->-r requirements.txt (line 2)) (0.9.0)\n",
      "Requirement already satisfied: marshmallow<4.0.0,>=3.18.0 in /opt/conda/lib/python3.10/site-packages (from dataclasses-json<0.7,>=0.5.7->langchain==0.0.305->-r requirements.txt (line 2)) (3.21.2)\n",
      "Requirement already satisfied: starlette<0.28.0,>=0.27.0 in /opt/conda/lib/python3.10/site-packages (from fastapi<0.100.0,>=0.95.2->chromadb==0.4.12->-r requirements.txt (line 8)) (0.27.0)\n",
      "Requirement already satisfied: fsspec>=2023.5.0 in /opt/conda/lib/python3.10/site-packages (from huggingface-hub>=0.20.0->sentence-transformers==3.4.1->-r requirements.txt (line 6)) (2024.5.0)\n",
      "Requirement already satisfied: jsonpointer>=1.9 in /opt/conda/lib/python3.10/site-packages (from jsonpatch<2.0,>=1.33->langchain==0.0.305->-r requirements.txt (line 2)) (2.1)\n",
      "Requirement already satisfied: sympy in /opt/conda/lib/python3.10/site-packages (from onnxruntime>=1.14.1->chromadb==0.4.12->-r requirements.txt (line 8)) (1.12)\n",
      "Requirement already satisfied: protobuf in /opt/conda/lib/python3.10/site-packages (from onnxruntime>=1.14.1->chromadb==0.4.12->-r requirements.txt (line 8)) (5.26.1)\n",
      "Requirement already satisfied: coloredlogs in /opt/conda/lib/python3.10/site-packages (from onnxruntime>=1.14.1->chromadb==0.4.12->-r requirements.txt (line 8)) (15.0.1)\n",
      "Requirement already satisfied: flatbuffers in /opt/conda/lib/python3.10/site-packages (from onnxruntime>=1.14.1->chromadb==0.4.12->-r requirements.txt (line 8)) (24.3.25)\n",
      "Requirement already satisfied: monotonic>=1.5 in /opt/conda/lib/python3.10/site-packages (from posthog>=2.4.0->chromadb==0.4.12->-r requirements.txt (line 8)) (1.6)\n",
      "Requirement already satisfied: backoff>=1.10.0 in /opt/conda/lib/python3.10/site-packages (from posthog>=2.4.0->chromadb==0.4.12->-r requirements.txt (line 8)) (2.2.1)\n",
      "Requirement already satisfied: six>=1.5 in /opt/conda/lib/python3.10/site-packages (from posthog>=2.4.0->chromadb==0.4.12->-r requirements.txt (line 8)) (1.16.0)\n",
      "Requirement already satisfied: certifi in /opt/conda/lib/python3.10/site-packages (from pulsar-client>=3.1.0->chromadb==0.4.12->-r requirements.txt (line 8)) (2023.5.7)\n",
      "Collecting pyarrow>=14\n",
      "  Downloading pyarrow-19.0.1-cp310-cp310-manylinux_2_28_x86_64.whl (42.1 MB)\n",
      "\u001b[2K     \u001b[90m━━━━━━━━━━━━━━━━━━━━━━━━━━━━━━━━━━━━━━━━\u001b[0m \u001b[32m42.1/42.1 MB\u001b[0m \u001b[31m33.1 MB/s\u001b[0m eta \u001b[36m0:00:00\u001b[0m00:01\u001b[0m00:01\u001b[0m\n",
      "\u001b[?25hRequirement already satisfied: charset-normalizer<4,>=2 in /opt/conda/lib/python3.10/site-packages (from requests<3,>=2->langchain==0.0.305->-r requirements.txt (line 2)) (2.0.4)\n",
      "Requirement already satisfied: urllib3<1.27,>=1.21.1 in /opt/conda/lib/python3.10/site-packages (from requests<3,>=2->langchain==0.0.305->-r requirements.txt (line 2)) (1.26.15)\n",
      "Requirement already satisfied: greenlet!=0.4.17 in /opt/conda/lib/python3.10/site-packages (from SQLAlchemy<3,>=1.4->langchain==0.0.305->-r requirements.txt (line 2)) (3.0.3)\n",
      "Requirement already satisfied: networkx in /opt/conda/lib/python3.10/site-packages (from torch>=1.11.0->sentence-transformers==3.4.1->-r requirements.txt (line 6)) (3.1)\n",
      "Requirement already satisfied: jinja2 in /opt/conda/lib/python3.10/site-packages (from torch>=1.11.0->sentence-transformers==3.4.1->-r requirements.txt (line 6)) (3.1.2)\n",
      "Requirement already satisfied: rich>=10.11.0 in /opt/conda/lib/python3.10/site-packages (from typer>=0.9.0->chromadb==0.4.12->-r requirements.txt (line 8)) (13.7.1)\n",
      "Requirement already satisfied: shellingham>=1.3.0 in /opt/conda/lib/python3.10/site-packages (from typer>=0.9.0->chromadb==0.4.12->-r requirements.txt (line 8)) (1.5.4)\n",
      "Requirement already satisfied: click>=8.0.0 in /opt/conda/lib/python3.10/site-packages (from typer>=0.9.0->chromadb==0.4.12->-r requirements.txt (line 8)) (8.1.7)\n",
      "Requirement already satisfied: h11>=0.8 in /opt/conda/lib/python3.10/site-packages (from uvicorn[standard]>=0.18.3->chromadb==0.4.12->-r requirements.txt (line 8)) (0.14.0)\n",
      "Requirement already satisfied: watchfiles>=0.13 in /opt/conda/lib/python3.10/site-packages (from uvicorn[standard]>=0.18.3->chromadb==0.4.12->-r requirements.txt (line 8)) (0.21.0)\n",
      "Requirement already satisfied: python-dotenv>=0.13 in /opt/conda/lib/python3.10/site-packages (from uvicorn[standard]>=0.18.3->chromadb==0.4.12->-r requirements.txt (line 8)) (1.0.1)\n",
      "Requirement already satisfied: websockets>=10.4 in /opt/conda/lib/python3.10/site-packages (from uvicorn[standard]>=0.18.3->chromadb==0.4.12->-r requirements.txt (line 8)) (12.0)\n",
      "Requirement already satisfied: uvloop!=0.15.0,!=0.15.1,>=0.14.0 in /opt/conda/lib/python3.10/site-packages (from uvicorn[standard]>=0.18.3->chromadb==0.4.12->-r requirements.txt (line 8)) (0.19.0)\n",
      "Requirement already satisfied: httptools>=0.5.0 in /opt/conda/lib/python3.10/site-packages (from uvicorn[standard]>=0.18.3->chromadb==0.4.12->-r requirements.txt (line 8)) (0.6.1)\n",
      "Requirement already satisfied: debugpy>=1.6.5 in /opt/conda/lib/python3.10/site-packages (from ipykernel->jupyter==1.0.0->-r requirements.txt (line 9)) (1.8.1)\n",
      "Requirement already satisfied: traitlets>=5.4.0 in /opt/conda/lib/python3.10/site-packages (from ipykernel->jupyter==1.0.0->-r requirements.txt (line 9)) (5.7.1)\n",
      "Requirement already satisfied: jupyter-core!=5.0.*,>=4.12 in /opt/conda/lib/python3.10/site-packages (from ipykernel->jupyter==1.0.0->-r requirements.txt (line 9)) (5.7.2)\n",
      "Requirement already satisfied: matplotlib-inline>=0.1 in /opt/conda/lib/python3.10/site-packages (from ipykernel->jupyter==1.0.0->-r requirements.txt (line 9)) (0.1.6)\n",
      "Requirement already satisfied: psutil in /opt/conda/lib/python3.10/site-packages (from ipykernel->jupyter==1.0.0->-r requirements.txt (line 9)) (5.9.0)\n",
      "Requirement already satisfied: jupyter-client>=6.1.12 in /opt/conda/lib/python3.10/site-packages (from ipykernel->jupyter==1.0.0->-r requirements.txt (line 9)) (7.4.9)\n",
      "Requirement already satisfied: tornado>=6.1 in /opt/conda/lib/python3.10/site-packages (from ipykernel->jupyter==1.0.0->-r requirements.txt (line 9)) (6.4)\n",
      "Requirement already satisfied: comm>=0.1.1 in /opt/conda/lib/python3.10/site-packages (from ipykernel->jupyter==1.0.0->-r requirements.txt (line 9)) (0.2.2)\n",
      "Requirement already satisfied: nest-asyncio in /opt/conda/lib/python3.10/site-packages (from ipykernel->jupyter==1.0.0->-r requirements.txt (line 9)) (1.6.0)\n",
      "Requirement already satisfied: pyzmq>=24 in /opt/conda/lib/python3.10/site-packages (from ipykernel->jupyter==1.0.0->-r requirements.txt (line 9)) (24.0.1)\n",
      "Requirement already satisfied: ipython>=7.23.1 in /opt/conda/lib/python3.10/site-packages (from ipykernel->jupyter==1.0.0->-r requirements.txt (line 9)) (8.12.0)\n"
     ]
    },
    {
     "name": "stdout",
     "output_type": "stream",
     "text": [
      "Requirement already satisfied: jupyterlab-widgets~=3.0.10 in /opt/conda/lib/python3.10/site-packages (from ipywidgets->jupyter==1.0.0->-r requirements.txt (line 9)) (3.0.10)\n",
      "Requirement already satisfied: widgetsnbextension~=4.0.10 in /opt/conda/lib/python3.10/site-packages (from ipywidgets->jupyter==1.0.0->-r requirements.txt (line 9)) (4.0.10)\n",
      "Requirement already satisfied: pygments in /opt/conda/lib/python3.10/site-packages (from jupyter-console->jupyter==1.0.0->-r requirements.txt (line 9)) (2.15.1)\n",
      "Requirement already satisfied: prompt-toolkit>=3.0.30 in /opt/conda/lib/python3.10/site-packages (from jupyter-console->jupyter==1.0.0->-r requirements.txt (line 9)) (3.0.36)\n",
      "Requirement already satisfied: jupyterlab-pygments in /opt/conda/lib/python3.10/site-packages (from nbconvert->jupyter==1.0.0->-r requirements.txt (line 9)) (0.3.0)\n",
      "Requirement already satisfied: beautifulsoup4 in /opt/conda/lib/python3.10/site-packages (from nbconvert->jupyter==1.0.0->-r requirements.txt (line 9)) (4.12.2)\n",
      "Requirement already satisfied: mistune<4,>=2.0.3 in /opt/conda/lib/python3.10/site-packages (from nbconvert->jupyter==1.0.0->-r requirements.txt (line 9)) (3.0.2)\n",
      "Requirement already satisfied: tinycss2 in /opt/conda/lib/python3.10/site-packages (from nbconvert->jupyter==1.0.0->-r requirements.txt (line 9)) (1.3.0)\n",
      "Requirement already satisfied: nbformat>=5.7 in /opt/conda/lib/python3.10/site-packages (from nbconvert->jupyter==1.0.0->-r requirements.txt (line 9)) (5.10.4)\n",
      "Requirement already satisfied: nbclient>=0.5.0 in /opt/conda/lib/python3.10/site-packages (from nbconvert->jupyter==1.0.0->-r requirements.txt (line 9)) (0.10.0)\n",
      "Requirement already satisfied: pandocfilters>=1.4.1 in /opt/conda/lib/python3.10/site-packages (from nbconvert->jupyter==1.0.0->-r requirements.txt (line 9)) (1.5.1)\n",
      "Requirement already satisfied: defusedxml in /opt/conda/lib/python3.10/site-packages (from nbconvert->jupyter==1.0.0->-r requirements.txt (line 9)) (0.7.1)\n",
      "Requirement already satisfied: markupsafe>=2.0 in /opt/conda/lib/python3.10/site-packages (from nbconvert->jupyter==1.0.0->-r requirements.txt (line 9)) (2.1.1)\n",
      "Requirement already satisfied: bleach!=5.0.0 in /opt/conda/lib/python3.10/site-packages (from nbconvert->jupyter==1.0.0->-r requirements.txt (line 9)) (6.1.0)\n",
      "Requirement already satisfied: terminado>=0.8.3 in /opt/conda/lib/python3.10/site-packages (from notebook->jupyter==1.0.0->-r requirements.txt (line 9)) (0.18.1)\n",
      "Requirement already satisfied: ipython-genutils in /opt/conda/lib/python3.10/site-packages (from notebook->jupyter==1.0.0->-r requirements.txt (line 9)) (0.2.0)\n",
      "Requirement already satisfied: nbclassic>=0.4.7 in /opt/conda/lib/python3.10/site-packages (from notebook->jupyter==1.0.0->-r requirements.txt (line 9)) (1.0.0)\n",
      "Requirement already satisfied: argon2-cffi in /opt/conda/lib/python3.10/site-packages (from notebook->jupyter==1.0.0->-r requirements.txt (line 9)) (23.1.0)\n",
      "Requirement already satisfied: Send2Trash>=1.8.0 in /opt/conda/lib/python3.10/site-packages (from notebook->jupyter==1.0.0->-r requirements.txt (line 9)) (1.8.3)\n",
      "Requirement already satisfied: prometheus-client in /opt/conda/lib/python3.10/site-packages (from notebook->jupyter==1.0.0->-r requirements.txt (line 9)) (0.20.0)\n",
      "Requirement already satisfied: qtpy>=2.4.0 in /opt/conda/lib/python3.10/site-packages (from qtconsole->jupyter==1.0.0->-r requirements.txt (line 9)) (2.4.1)\n",
      "Requirement already satisfied: joblib>=1.2.0 in /opt/conda/lib/python3.10/site-packages (from scikit-learn->sentence-transformers==3.4.1->-r requirements.txt (line 6)) (1.4.2)\n",
      "Requirement already satisfied: threadpoolctl>=2.0.0 in /opt/conda/lib/python3.10/site-packages (from scikit-learn->sentence-transformers==3.4.1->-r requirements.txt (line 6)) (3.5.0)\n",
      "Requirement already satisfied: webencodings in /opt/conda/lib/python3.10/site-packages (from bleach!=5.0.0->nbconvert->jupyter==1.0.0->-r requirements.txt (line 9)) (0.5.1)\n",
      "Requirement already satisfied: pexpect>4.3 in /opt/conda/lib/python3.10/site-packages (from ipython>=7.23.1->ipykernel->jupyter==1.0.0->-r requirements.txt (line 9)) (4.8.0)\n",
      "Requirement already satisfied: jedi>=0.16 in /opt/conda/lib/python3.10/site-packages (from ipython>=7.23.1->ipykernel->jupyter==1.0.0->-r requirements.txt (line 9)) (0.18.1)\n",
      "Requirement already satisfied: pickleshare in /opt/conda/lib/python3.10/site-packages (from ipython>=7.23.1->ipykernel->jupyter==1.0.0->-r requirements.txt (line 9)) (0.7.5)\n",
      "Requirement already satisfied: backcall in /opt/conda/lib/python3.10/site-packages (from ipython>=7.23.1->ipykernel->jupyter==1.0.0->-r requirements.txt (line 9)) (0.2.0)\n",
      "Requirement already satisfied: decorator in /opt/conda/lib/python3.10/site-packages (from ipython>=7.23.1->ipykernel->jupyter==1.0.0->-r requirements.txt (line 9)) (5.1.1)\n",
      "Requirement already satisfied: stack-data in /opt/conda/lib/python3.10/site-packages (from ipython>=7.23.1->ipykernel->jupyter==1.0.0->-r requirements.txt (line 9)) (0.2.0)\n",
      "Requirement already satisfied: entrypoints in /opt/conda/lib/python3.10/site-packages (from jupyter-client>=6.1.12->ipykernel->jupyter==1.0.0->-r requirements.txt (line 9)) (0.4)\n",
      "Requirement already satisfied: platformdirs>=2.5 in /opt/conda/lib/python3.10/site-packages (from jupyter-core!=5.0.*,>=4.12->ipykernel->jupyter==1.0.0->-r requirements.txt (line 9)) (4.2.2)\n",
      "Requirement already satisfied: notebook-shim>=0.2.3 in /opt/conda/lib/python3.10/site-packages (from nbclassic>=0.4.7->notebook->jupyter==1.0.0->-r requirements.txt (line 9)) (0.2.4)\n",
      "Requirement already satisfied: jupyter-server>=1.8 in /opt/conda/lib/python3.10/site-packages (from nbclassic>=0.4.7->notebook->jupyter==1.0.0->-r requirements.txt (line 9)) (2.14.0)\n",
      "Requirement already satisfied: fastjsonschema>=2.15 in /opt/conda/lib/python3.10/site-packages (from nbformat>=5.7->nbconvert->jupyter==1.0.0->-r requirements.txt (line 9)) (2.19.1)\n",
      "Requirement already satisfied: jsonschema>=2.6 in /opt/conda/lib/python3.10/site-packages (from nbformat>=5.7->nbconvert->jupyter==1.0.0->-r requirements.txt (line 9)) (4.22.0)\n",
      "Requirement already satisfied: wcwidth in /opt/conda/lib/python3.10/site-packages (from prompt-toolkit>=3.0.30->jupyter-console->jupyter==1.0.0->-r requirements.txt (line 9)) (0.2.5)\n",
      "Requirement already satisfied: markdown-it-py>=2.2.0 in /opt/conda/lib/python3.10/site-packages (from rich>=10.11.0->typer>=0.9.0->chromadb==0.4.12->-r requirements.txt (line 8)) (3.0.0)\n",
      "Requirement already satisfied: ptyprocess in /opt/conda/lib/python3.10/site-packages (from terminado>=0.8.3->notebook->jupyter==1.0.0->-r requirements.txt (line 9)) (0.7.0)\n",
      "Requirement already satisfied: mypy-extensions>=0.3.0 in /opt/conda/lib/python3.10/site-packages (from typing-inspect<1,>=0.4.0->dataclasses-json<0.7,>=0.5.7->langchain==0.0.305->-r requirements.txt (line 2)) (1.0.0)\n",
      "Requirement already satisfied: argon2-cffi-bindings in /opt/conda/lib/python3.10/site-packages (from argon2-cffi->notebook->jupyter==1.0.0->-r requirements.txt (line 9)) (21.2.0)\n",
      "Requirement already satisfied: soupsieve>1.2 in /opt/conda/lib/python3.10/site-packages (from beautifulsoup4->nbconvert->jupyter==1.0.0->-r requirements.txt (line 9)) (2.4)\n",
      "Requirement already satisfied: humanfriendly>=9.1 in /opt/conda/lib/python3.10/site-packages (from coloredlogs->onnxruntime>=1.14.1->chromadb==0.4.12->-r requirements.txt (line 8)) (10.0)\n",
      "Requirement already satisfied: mpmath>=0.19 in /opt/conda/lib/python3.10/site-packages (from sympy->onnxruntime>=1.14.1->chromadb==0.4.12->-r requirements.txt (line 8)) (1.3.0)\n",
      "Requirement already satisfied: parso<0.9.0,>=0.8.0 in /opt/conda/lib/python3.10/site-packages (from jedi>=0.16->ipython>=7.23.1->ipykernel->jupyter==1.0.0->-r requirements.txt (line 9)) (0.8.3)\n",
      "Requirement already satisfied: jsonschema-specifications>=2023.03.6 in /opt/conda/lib/python3.10/site-packages (from jsonschema>=2.6->nbformat>=5.7->nbconvert->jupyter==1.0.0->-r requirements.txt (line 9)) (2023.12.1)\n",
      "Requirement already satisfied: referencing>=0.28.4 in /opt/conda/lib/python3.10/site-packages (from jsonschema>=2.6->nbformat>=5.7->nbconvert->jupyter==1.0.0->-r requirements.txt (line 9)) (0.35.1)\n",
      "Requirement already satisfied: rpds-py>=0.7.1 in /opt/conda/lib/python3.10/site-packages (from jsonschema>=2.6->nbformat>=5.7->nbconvert->jupyter==1.0.0->-r requirements.txt (line 9)) (0.18.1)\n"
     ]
    },
    {
     "name": "stdout",
     "output_type": "stream",
     "text": [
      "Requirement already satisfied: websocket-client>=1.7 in /opt/conda/lib/python3.10/site-packages (from jupyter-server>=1.8->nbclassic>=0.4.7->notebook->jupyter==1.0.0->-r requirements.txt (line 9)) (1.8.0)\n",
      "Requirement already satisfied: jupyter-server-terminals>=0.4.4 in /opt/conda/lib/python3.10/site-packages (from jupyter-server>=1.8->nbclassic>=0.4.7->notebook->jupyter==1.0.0->-r requirements.txt (line 9)) (0.5.3)\n",
      "Requirement already satisfied: jupyter-events>=0.9.0 in /opt/conda/lib/python3.10/site-packages (from jupyter-server>=1.8->nbclassic>=0.4.7->notebook->jupyter==1.0.0->-r requirements.txt (line 9)) (0.10.0)\n",
      "Requirement already satisfied: mdurl~=0.1 in /opt/conda/lib/python3.10/site-packages (from markdown-it-py>=2.2.0->rich>=10.11.0->typer>=0.9.0->chromadb==0.4.12->-r requirements.txt (line 8)) (0.1.2)\n",
      "Requirement already satisfied: cffi>=1.0.1 in /opt/conda/lib/python3.10/site-packages (from argon2-cffi-bindings->argon2-cffi->notebook->jupyter==1.0.0->-r requirements.txt (line 9)) (1.15.1)\n",
      "Requirement already satisfied: pure-eval in /opt/conda/lib/python3.10/site-packages (from stack-data->ipython>=7.23.1->ipykernel->jupyter==1.0.0->-r requirements.txt (line 9)) (0.2.2)\n",
      "Requirement already satisfied: executing in /opt/conda/lib/python3.10/site-packages (from stack-data->ipython>=7.23.1->ipykernel->jupyter==1.0.0->-r requirements.txt (line 9)) (0.8.3)\n",
      "Requirement already satisfied: asttokens in /opt/conda/lib/python3.10/site-packages (from stack-data->ipython>=7.23.1->ipykernel->jupyter==1.0.0->-r requirements.txt (line 9)) (2.0.5)\n",
      "Requirement already satisfied: pycparser in /opt/conda/lib/python3.10/site-packages (from cffi>=1.0.1->argon2-cffi-bindings->argon2-cffi->notebook->jupyter==1.0.0->-r requirements.txt (line 9)) (2.21)\n",
      "Requirement already satisfied: rfc3339-validator in /opt/conda/lib/python3.10/site-packages (from jupyter-events>=0.9.0->jupyter-server>=1.8->nbclassic>=0.4.7->notebook->jupyter==1.0.0->-r requirements.txt (line 9)) (0.1.4)\n",
      "Requirement already satisfied: rfc3986-validator>=0.1.1 in /opt/conda/lib/python3.10/site-packages (from jupyter-events>=0.9.0->jupyter-server>=1.8->nbclassic>=0.4.7->notebook->jupyter==1.0.0->-r requirements.txt (line 9)) (0.1.1)\n",
      "Requirement already satisfied: python-json-logger>=2.0.4 in /opt/conda/lib/python3.10/site-packages (from jupyter-events>=0.9.0->jupyter-server>=1.8->nbclassic>=0.4.7->notebook->jupyter==1.0.0->-r requirements.txt (line 9)) (2.0.7)\n",
      "Requirement already satisfied: isoduration in /opt/conda/lib/python3.10/site-packages (from jsonschema>=2.6->nbformat>=5.7->nbconvert->jupyter==1.0.0->-r requirements.txt (line 9)) (20.11.0)\n",
      "Requirement already satisfied: uri-template in /opt/conda/lib/python3.10/site-packages (from jsonschema>=2.6->nbformat>=5.7->nbconvert->jupyter==1.0.0->-r requirements.txt (line 9)) (1.3.0)\n",
      "Requirement already satisfied: webcolors>=1.11 in /opt/conda/lib/python3.10/site-packages (from jsonschema>=2.6->nbformat>=5.7->nbconvert->jupyter==1.0.0->-r requirements.txt (line 9)) (1.13)\n",
      "Requirement already satisfied: fqdn in /opt/conda/lib/python3.10/site-packages (from jsonschema>=2.6->nbformat>=5.7->nbconvert->jupyter==1.0.0->-r requirements.txt (line 9)) (1.5.1)\n",
      "Requirement already satisfied: arrow>=0.15.0 in /opt/conda/lib/python3.10/site-packages (from isoduration->jsonschema>=2.6->nbformat>=5.7->nbconvert->jupyter==1.0.0->-r requirements.txt (line 9)) (1.3.0)\n",
      "Requirement already satisfied: types-python-dateutil>=2.8.10 in /opt/conda/lib/python3.10/site-packages (from arrow>=0.15.0->isoduration->jsonschema>=2.6->nbformat>=5.7->nbconvert->jupyter==1.0.0->-r requirements.txt (line 9)) (2.9.0.20240316)\n",
      "Installing collected packages: tzdata, pyarrow, deprecation, pylance, pandas, huggingface-hub, tokenizers, lancedb, transformers, sentence-transformers\n",
      "\u001b[33m  WARNING: The script huggingface-cli is installed in '/home/student/.local/bin' which is not on PATH.\n",
      "  Consider adding this directory to PATH or, if you prefer to suppress this warning, use --no-warn-script-location.\u001b[0m\u001b[33m\n",
      "\u001b[0m\u001b[33m  WARNING: The script transformers-cli is installed in '/home/student/.local/bin' which is not on PATH.\n",
      "  Consider adding this directory to PATH or, if you prefer to suppress this warning, use --no-warn-script-location.\u001b[0m\u001b[33m\n",
      "\u001b[0mSuccessfully installed deprecation-2.1.0 huggingface-hub-0.29.2 lancedb-0.20.0 pandas-2.2.3 pyarrow-19.0.1 pylance-0.23.2 sentence-transformers-3.4.1 tokenizers-0.21.0 transformers-4.49.0 tzdata-2025.1\n"
     ]
    }
   ],
   "source": [
    "!pip install -r requirements.txt"
   ]
  },
  {
   "cell_type": "code",
   "execution_count": 5,
   "id": "0b785b67",
   "metadata": {},
   "outputs": [
    {
     "name": "stdout",
     "output_type": "stream",
     "text": [
      "Defaulting to user installation because normal site-packages is not writeable\n",
      "Requirement already satisfied: sentence-transformers in /home/student/.local/lib/python3.10/site-packages (3.4.1)\n",
      "Requirement already satisfied: torch>=1.11.0 in /opt/conda/lib/python3.10/site-packages (from sentence-transformers) (2.0.1)\n",
      "Requirement already satisfied: transformers<5.0.0,>=4.41.0 in /home/student/.local/lib/python3.10/site-packages (from sentence-transformers) (4.49.0)\n",
      "Requirement already satisfied: scikit-learn in /opt/conda/lib/python3.10/site-packages (from sentence-transformers) (1.4.2)\n",
      "Requirement already satisfied: scipy in /opt/conda/lib/python3.10/site-packages (from sentence-transformers) (1.13.0)\n",
      "Requirement already satisfied: Pillow in /opt/conda/lib/python3.10/site-packages (from sentence-transformers) (9.4.0)\n",
      "Requirement already satisfied: huggingface-hub>=0.20.0 in /home/student/.local/lib/python3.10/site-packages (from sentence-transformers) (0.29.2)\n",
      "Requirement already satisfied: tqdm in /opt/conda/lib/python3.10/site-packages (from sentence-transformers) (4.65.0)\n",
      "Requirement already satisfied: requests in /opt/conda/lib/python3.10/site-packages (from huggingface-hub>=0.20.0->sentence-transformers) (2.29.0)\n",
      "Requirement already satisfied: packaging>=20.9 in /opt/conda/lib/python3.10/site-packages (from huggingface-hub>=0.20.0->sentence-transformers) (23.0)\n",
      "Requirement already satisfied: typing-extensions>=3.7.4.3 in /opt/conda/lib/python3.10/site-packages (from huggingface-hub>=0.20.0->sentence-transformers) (4.11.0)\n",
      "Requirement already satisfied: pyyaml>=5.1 in /opt/conda/lib/python3.10/site-packages (from huggingface-hub>=0.20.0->sentence-transformers) (6.0)\n",
      "Requirement already satisfied: fsspec>=2023.5.0 in /opt/conda/lib/python3.10/site-packages (from huggingface-hub>=0.20.0->sentence-transformers) (2024.5.0)\n",
      "Requirement already satisfied: filelock in /opt/conda/lib/python3.10/site-packages (from huggingface-hub>=0.20.0->sentence-transformers) (3.9.0)\n",
      "Requirement already satisfied: sympy in /opt/conda/lib/python3.10/site-packages (from torch>=1.11.0->sentence-transformers) (1.12)\n",
      "Requirement already satisfied: networkx in /opt/conda/lib/python3.10/site-packages (from torch>=1.11.0->sentence-transformers) (3.1)\n",
      "Requirement already satisfied: jinja2 in /opt/conda/lib/python3.10/site-packages (from torch>=1.11.0->sentence-transformers) (3.1.2)\n",
      "Requirement already satisfied: numpy>=1.17 in /opt/conda/lib/python3.10/site-packages (from transformers<5.0.0,>=4.41.0->sentence-transformers) (1.24.3)\n",
      "Requirement already satisfied: regex!=2019.12.17 in /opt/conda/lib/python3.10/site-packages (from transformers<5.0.0,>=4.41.0->sentence-transformers) (2024.5.15)\n",
      "Requirement already satisfied: safetensors>=0.4.1 in /opt/conda/lib/python3.10/site-packages (from transformers<5.0.0,>=4.41.0->sentence-transformers) (0.4.3)\n",
      "Requirement already satisfied: tokenizers<0.22,>=0.21 in /home/student/.local/lib/python3.10/site-packages (from transformers<5.0.0,>=4.41.0->sentence-transformers) (0.21.0)\n",
      "Requirement already satisfied: joblib>=1.2.0 in /opt/conda/lib/python3.10/site-packages (from scikit-learn->sentence-transformers) (1.4.2)\n",
      "Requirement already satisfied: threadpoolctl>=2.0.0 in /opt/conda/lib/python3.10/site-packages (from scikit-learn->sentence-transformers) (3.5.0)\n",
      "Requirement already satisfied: MarkupSafe>=2.0 in /opt/conda/lib/python3.10/site-packages (from jinja2->torch>=1.11.0->sentence-transformers) (2.1.1)\n",
      "Requirement already satisfied: certifi>=2017.4.17 in /opt/conda/lib/python3.10/site-packages (from requests->huggingface-hub>=0.20.0->sentence-transformers) (2023.5.7)\n",
      "Requirement already satisfied: charset-normalizer<4,>=2 in /opt/conda/lib/python3.10/site-packages (from requests->huggingface-hub>=0.20.0->sentence-transformers) (2.0.4)\n",
      "Requirement already satisfied: idna<4,>=2.5 in /opt/conda/lib/python3.10/site-packages (from requests->huggingface-hub>=0.20.0->sentence-transformers) (3.4)\n",
      "Requirement already satisfied: urllib3<1.27,>=1.21.1 in /opt/conda/lib/python3.10/site-packages (from requests->huggingface-hub>=0.20.0->sentence-transformers) (1.26.15)\n",
      "Requirement already satisfied: mpmath>=0.19 in /opt/conda/lib/python3.10/site-packages (from sympy->torch>=1.11.0->sentence-transformers) (1.3.0)\n",
      "Note: you may need to restart the kernel to use updated packages.\n"
     ]
    }
   ],
   "source": [
    "pip install -U sentence-transformers"
   ]
  },
  {
   "cell_type": "code",
   "execution_count": 1,
   "id": "2e2fcb0b",
   "metadata": {},
   "outputs": [],
   "source": [
    "from langchain.chat_models import ChatOpenAI # this is the new import statement\n",
    "from langchain.llms import OpenAI\n",
    "from langchain.prompts import PromptTemplate\n",
    "from langchain.output_parsers import PydanticOutputParser\n",
    "from pydantic import BaseModel, Field, NonNegativeInt\n",
    "from typing import List, Union\n",
    "from sentence_transformers import SentenceTransformer\n",
    "from langchain.prompts import ChatPromptTemplate\n",
    "from lancedb.pydantic import vector, LanceModel\n",
    "import lancedb\n",
    "\n",
    "import pandas as pd\n",
    "import numpy as np\n",
    "import json"
   ]
  },
  {
   "cell_type": "code",
   "execution_count": 2,
   "id": "6554fd4c",
   "metadata": {},
   "outputs": [],
   "source": [
    "import os\n",
    "\n",
    "os.environ[\"OPENAI_API_KEY\"] = \"<YOUR-OPENAI-KEY\"\n",
    "os.environ[\"OPENAI_API_BASE\"] = \"https://openai.vocareum.com/v1\""
   ]
  },
  {
   "cell_type": "markdown",
   "id": "6feb8a3a",
   "metadata": {},
   "source": [
    "### 0 - Defining models"
   ]
  },
  {
   "cell_type": "code",
   "execution_count": 3,
   "id": "378f6a85",
   "metadata": {},
   "outputs": [
    {
     "data": {
      "application/vnd.jupyter.widget-view+json": {
       "model_id": "db5bab45cf134ee996e72ecc69f70290",
       "version_major": 2,
       "version_minor": 0
      },
      "text/plain": [
       "modules.json:   0%|          | 0.00/229 [00:00<?, ?B/s]"
      ]
     },
     "metadata": {},
     "output_type": "display_data"
    },
    {
     "data": {
      "application/vnd.jupyter.widget-view+json": {
       "model_id": "9bad7f2d515046cd907f8cd943754539",
       "version_major": 2,
       "version_minor": 0
      },
      "text/plain": [
       "config_sentence_transformers.json:   0%|          | 0.00/122 [00:00<?, ?B/s]"
      ]
     },
     "metadata": {},
     "output_type": "display_data"
    },
    {
     "data": {
      "application/vnd.jupyter.widget-view+json": {
       "model_id": "e591b885876a4db9b94c79dadc86036a",
       "version_major": 2,
       "version_minor": 0
      },
      "text/plain": [
       "README.md:   0%|          | 0.00/3.51k [00:00<?, ?B/s]"
      ]
     },
     "metadata": {},
     "output_type": "display_data"
    },
    {
     "data": {
      "application/vnd.jupyter.widget-view+json": {
       "model_id": "4948bf5871b24ce3919f8bd23c39073a",
       "version_major": 2,
       "version_minor": 0
      },
      "text/plain": [
       "sentence_bert_config.json:   0%|          | 0.00/53.0 [00:00<?, ?B/s]"
      ]
     },
     "metadata": {},
     "output_type": "display_data"
    },
    {
     "data": {
      "application/vnd.jupyter.widget-view+json": {
       "model_id": "b505ffe2769345eaba59fdea3f623197",
       "version_major": 2,
       "version_minor": 0
      },
      "text/plain": [
       "config.json:   0%|          | 0.00/629 [00:00<?, ?B/s]"
      ]
     },
     "metadata": {},
     "output_type": "display_data"
    },
    {
     "data": {
      "application/vnd.jupyter.widget-view+json": {
       "model_id": "40faed2539db423d8add70242d94d982",
       "version_major": 2,
       "version_minor": 0
      },
      "text/plain": [
       "model.safetensors:   0%|          | 0.00/90.9M [00:00<?, ?B/s]"
      ]
     },
     "metadata": {},
     "output_type": "display_data"
    },
    {
     "data": {
      "application/vnd.jupyter.widget-view+json": {
       "model_id": "69de358f88ca488ab6b159dfd4c10cd0",
       "version_major": 2,
       "version_minor": 0
      },
      "text/plain": [
       "tokenizer_config.json:   0%|          | 0.00/314 [00:00<?, ?B/s]"
      ]
     },
     "metadata": {},
     "output_type": "display_data"
    },
    {
     "data": {
      "application/vnd.jupyter.widget-view+json": {
       "model_id": "d3d5d5dba5bd413cb67132f80655c2ba",
       "version_major": 2,
       "version_minor": 0
      },
      "text/plain": [
       "vocab.txt:   0%|          | 0.00/232k [00:00<?, ?B/s]"
      ]
     },
     "metadata": {},
     "output_type": "display_data"
    },
    {
     "data": {
      "application/vnd.jupyter.widget-view+json": {
       "model_id": "87f28ab8da3944e79ecde088826ff3ce",
       "version_major": 2,
       "version_minor": 0
      },
      "text/plain": [
       "tokenizer.json:   0%|          | 0.00/466k [00:00<?, ?B/s]"
      ]
     },
     "metadata": {},
     "output_type": "display_data"
    },
    {
     "data": {
      "application/vnd.jupyter.widget-view+json": {
       "model_id": "e29e3900a7f54d14a32d739560c19e04",
       "version_major": 2,
       "version_minor": 0
      },
      "text/plain": [
       "special_tokens_map.json:   0%|          | 0.00/112 [00:00<?, ?B/s]"
      ]
     },
     "metadata": {},
     "output_type": "display_data"
    },
    {
     "data": {
      "application/vnd.jupyter.widget-view+json": {
       "model_id": "012540626f374ff1bdccb42927415942",
       "version_major": 2,
       "version_minor": 0
      },
      "text/plain": [
       "config.json:   0%|          | 0.00/190 [00:00<?, ?B/s]"
      ]
     },
     "metadata": {},
     "output_type": "display_data"
    },
    {
     "name": "stderr",
     "output_type": "stream",
     "text": [
      "/opt/conda/lib/python3.10/site-packages/langchain/llms/openai.py:202: UserWarning: You are trying to use a chat model. This way of initializing it is no longer supported. Instead, please use: `from langchain.chat_models import ChatOpenAI`\n",
      "  warnings.warn(\n",
      "/opt/conda/lib/python3.10/site-packages/langchain/llms/openai.py:790: UserWarning: You are trying to use a chat model. This way of initializing it is no longer supported. Instead, please use: `from langchain.chat_models import ChatOpenAI`\n",
      "  warnings.warn(\n"
     ]
    }
   ],
   "source": [
    "#Embedding Model\n",
    "EMB_NAME = 'paraphrase-MiniLM-L6-v2'\n",
    "emb_model = SentenceTransformer(EMB_NAME)\n",
    "\n",
    "# LLM\n",
    "model_name = 'gpt-3.5-turbo'\n",
    "llm = OpenAI(model_name=model_name, temperature=0.5)"
   ]
  },
  {
   "cell_type": "markdown",
   "id": "ba405915",
   "metadata": {},
   "source": [
    "### 1. Generating Real Estate Listings\n",
    "We will generate housing listings based on the requirements for the project using `gpt-3.5-turbo` "
   ]
  },
  {
   "cell_type": "code",
   "execution_count": 4,
   "id": "01f12474",
   "metadata": {},
   "outputs": [
    {
     "name": "stdout",
     "output_type": "stream",
     "text": [
      "The output should be formatted as a JSON instance that conforms to the JSON schema below.\n",
      "\n",
      "As an example, for the schema {\"properties\": {\"foo\": {\"title\": \"Foo\", \"description\": \"a list of strings\", \"type\": \"array\", \"items\": {\"type\": \"string\"}}}, \"required\": [\"foo\"]}\n",
      "the object {\"foo\": [\"bar\", \"baz\"]} is a well-formatted instance of the schema. The object {\"properties\": {\"foo\": [\"bar\", \"baz\"]}} is not well-formatted.\n",
      "\n",
      "Here is the output schema:\n",
      "```\n",
      "{\"properties\": {\"Neighborhood\": {\"title\": \"Neighborhood\", \"description\": \"The US neighborhood of the listing.\", \"type\": \"string\"}, \"Price\": {\"title\": \"Price\", \"description\": \"The price of the listing in USD.\", \"minimum\": 0, \"type\": \"integer\"}, \"Bedrooms\": {\"title\": \"Bedrooms\", \"description\": \"The number of bedrooms of the listing.\", \"minimum\": 0, \"type\": \"integer\"}, \"Bathrooms\": {\"title\": \"Bathrooms\", \"description\": \"The number of bathrooms of the listing.\", \"minimum\": 0, \"type\": \"integer\"}, \"HouseSize\": {\"title\": \"Housesize\", \"description\": \"The house size in square feet (sqft).\", \"type\": \"string\"}, \"Description\": {\"title\": \"Description\", \"description\": \"A short and brief description of the generated listing.\", \"type\": \"string\"}, \"NeighborhoodDescription\": {\"title\": \"Neighborhooddescription\", \"description\": \"A short and brief description of the neighborhood of the generated listing.\", \"type\": \"string\"}}, \"required\": [\"Neighborhood\", \"Price\", \"Bedrooms\", \"Bathrooms\", \"HouseSize\", \"Description\", \"NeighborhoodDescription\"]}\n",
      "```\n"
     ]
    }
   ],
   "source": [
    "class HouseListings(BaseModel):\n",
    "    Neighborhood: str = Field(description=\"The US neighborhood of the listing.\")\n",
    "    Price: NonNegativeInt = Field(description=\"The price of the listing in USD.\")\n",
    "    Bedrooms: NonNegativeInt = Field(description=\"The number of bedrooms of the listing.\")\n",
    "    Bathrooms: NonNegativeInt = Field(description=\"The number of bathrooms of the listing.\")\n",
    "    HouseSize: str = Field(description=\"The house size in square feet (sqft).\")\n",
    "    Description: str = Field(description=\"A short and brief description of the generated listing.\")\n",
    "    NeighborhoodDescription: str = Field(description=\"A short and brief description of the neighborhood of the generated listing.\")\n",
    "        \n",
    "parser = PydanticOutputParser(pydantic_object=HouseListings)\n",
    "print(parser.get_format_instructions())"
   ]
  },
  {
   "cell_type": "code",
   "execution_count": 5,
   "id": "687037c4",
   "metadata": {},
   "outputs": [
    {
     "name": "stdout",
     "output_type": "stream",
     "text": [
      "Please generate at least 10 real estate listings in CSV format that conform to the provided schema.\n",
      " Sample:{\"Neighborhood\": \"Green Oaks\", \"Price\": 800000, \"Bedrooms\": 3, \"Bathrooms\": 2, \"HouseSize\": \"2000 sqft\", \"Description\": \"Welcome to this eco-friendly oasis nestled in the heart of Green Oaks. This charming 3-bedroom, 2-bathroom home boasts energy-efficient features such as solar panels and a well-insulated structure. Natural light floods the living spaces, highlighting the beautiful hardwood floors and eco-conscious finishes. The open-concept kitchen and dining area lead to a spacious backyard with a vegetable garden, perfect for the eco-conscious family. Embrace sustainable living without compromising on style in this Green Oaks gem.\", \"NeighborhoodDescription\": \"Green Oaks is a close-knit, environmentally-conscious community with access to organic grocery stores, community gardens, and bike paths. Take a stroll through the nearby Green Oaks Park or grab a cup of coffee at the cozy Green Bean Cafe. With easy access to public transportation and bike lanes, commuting is a breeze.\"}\n",
      "The output should be formatted as a JSON instance that conforms to the JSON schema below.\n",
      "\n",
      "As an example, for the schema {\"properties\": {\"foo\": {\"title\": \"Foo\", \"description\": \"a list of strings\", \"type\": \"array\", \"items\": {\"type\": \"string\"}}}, \"required\": [\"foo\"]}\n",
      "the object {\"foo\": [\"bar\", \"baz\"]} is a well-formatted instance of the schema. The object {\"properties\": {\"foo\": [\"bar\", \"baz\"]}} is not well-formatted.\n",
      "\n",
      "Here is the output schema:\n",
      "```\n",
      "{\"properties\": {\"Neighborhood\": {\"title\": \"Neighborhood\", \"description\": \"The US neighborhood of the listing.\", \"type\": \"string\"}, \"Price\": {\"title\": \"Price\", \"description\": \"The price of the listing in USD.\", \"minimum\": 0, \"type\": \"integer\"}, \"Bedrooms\": {\"title\": \"Bedrooms\", \"description\": \"The number of bedrooms of the listing.\", \"minimum\": 0, \"type\": \"integer\"}, \"Bathrooms\": {\"title\": \"Bathrooms\", \"description\": \"The number of bathrooms of the listing.\", \"minimum\": 0, \"type\": \"integer\"}, \"HouseSize\": {\"title\": \"Housesize\", \"description\": \"The house size in square feet (sqft).\", \"type\": \"string\"}, \"Description\": {\"title\": \"Description\", \"description\": \"A short and brief description of the generated listing.\", \"type\": \"string\"}, \"NeighborhoodDescription\": {\"title\": \"Neighborhooddescription\", \"description\": \"A short and brief description of the neighborhood of the generated listing.\", \"type\": \"string\"}}, \"required\": [\"Neighborhood\", \"Price\", \"Bedrooms\", \"Bathrooms\", \"HouseSize\", \"Description\", \"NeighborhoodDescription\"]}\n",
      "```\n",
      "\n"
     ]
    }
   ],
   "source": [
    "instruction = \"Please generate at least 10 real estate listings in CSV format that conform to the provided schema.\"\n",
    "\n",
    "# Create an instance of HouseListings\n",
    "listing = HouseListings(\n",
    "    Neighborhood=\"Green Oaks\",\n",
    "    Price=800000,\n",
    "    Bedrooms=3,\n",
    "    Bathrooms=2,\n",
    "    HouseSize=\"2000 sqft\",\n",
    "    Description=\"Welcome to this eco-friendly oasis nestled in the heart of Green Oaks. This charming 3-bedroom, 2-bathroom home boasts energy-efficient features such as solar panels and a well-insulated structure. Natural light floods the living spaces, highlighting the beautiful hardwood floors and eco-conscious finishes. The open-concept kitchen and dining area lead to a spacious backyard with a vegetable garden, perfect for the eco-conscious family. Embrace sustainable living without compromising on style in this Green Oaks gem.\",\n",
    "    NeighborhoodDescription=\"Green Oaks is a close-knit, environmentally-conscious community with access to organic grocery stores, community gardens, and bike paths. Take a stroll through the nearby Green Oaks Park or grab a cup of coffee at the cozy Green Bean Cafe. With easy access to public transportation and bike lanes, commuting is a breeze.\"\n",
    ")\n",
    "\n",
    "# Convert the instance to a JSON string\n",
    "sample = listing.json()\n",
    "\n",
    "prompt = PromptTemplate(\n",
    "    template=\"{instruction}\\n Sample:{sample}\\n{format_instructions}\\n\",\n",
    "    input_variables=[\"instruction\", \"sample\"],\n",
    "    partial_variables={\"format_instructions\": parser.get_format_instructions},\n",
    ")\n",
    "\n",
    "query = prompt.format(\n",
    "    instruction=instruction,\n",
    "    sample=sample\n",
    ")\n",
    "print(query)"
   ]
  },
  {
   "cell_type": "code",
   "execution_count": 6,
   "id": "c2a1bab8",
   "metadata": {},
   "outputs": [
    {
     "name": "stdout",
     "output_type": "stream",
     "text": [
      "[\n",
      "    {\"Neighborhood\": \"Downtown\", \"Price\": 1200000, \"Bedrooms\": 4, \"Bathrooms\": 3, \"HouseSize\": \"2500 sqft\", \"Description\": \"Luxurious penthouse in the heart of Downtown with stunning city views. This 4-bedroom, 3-bathroom home features high-end finishes, a gourmet kitchen, and a private rooftop terrace. Enjoy the convenience of urban living in this upscale residence.\", \"NeighborhoodDescription\": \"Downtown is a vibrant neighborhood with access to top-rated restaurants, shopping, and entertainment venues. Explore the nearby museums, theaters, and parks for endless entertainment options.\"},\n",
      "    {\"Neighborhood\": \"Suburban Heights\", \"Price\": 650000, \"Bedrooms\": 5, \"Bathrooms\": 4, \"HouseSize\": \"3000 sqft\", \"Description\": \"Spacious family home in the desirable Suburban Heights neighborhood. This 5-bedroom, 4-bathroom property offers a large backyard, updated kitchen, and a cozy fireplace. Perfect for families looking for a quiet and safe community.\", \"NeighborhoodDescription\": \"Suburban Heights is a family-friendly neighborhood with top-rated schools, parks, and community events. Enjoy the suburban lifestyle while still being close to shopping centers and restaurants.\"},\n",
      "    {\"Neighborhood\": \"Waterfront Estates\", \"Price\": 1800000, \"Bedrooms\": 6, \"Bathrooms\": 5, \"HouseSize\": \"4000 sqft\", \"Description\": \"Elegant waterfront estate with panoramic views of the bay. This 6-bedroom, 5-bathroom home features a private dock, pool, and spacious outdoor living areas. Ideal for those who appreciate luxury living and breathtaking sunsets.\", \"NeighborhoodDescription\": \"Waterfront Estates is an exclusive neighborhood known for its waterfront properties and upscale amenities. Residents enjoy boating, fishing, and water sports right in their backyard.\"},\n",
      "    {\"Neighborhood\": \"Mountain View\", \"Price\": 850000, \"Bedrooms\": 3, \"Bathrooms\": 2, \"HouseSize\": \"2200 sqft\", \"Description\": \"Charming cottage-style home with mountain views in the peaceful Mountain View neighborhood. This 3-bedroom, 2-bathroom property features a cozy fireplace, updated kitchen, and a spacious deck for outdoor entertaining. Perfect for nature lovers seeking a tranquil retreat.\", \"NeighborhoodDescription\": \"Mountain View is a serene neighborhood surrounded by nature trails, parks, and scenic vistas. Enjoy hiking, biking, and outdoor activities just steps from your front door.\"},\n",
      "    {\"Neighborhood\": \"Lakefront Living\", \"Price\": 1500000, \"Bedrooms\": 4, \"Bathrooms\": 3, \"HouseSize\": \"2800 sqft\", \"Description\": \"Modern lakefront home with stunning water views. This 4-bedroom, 3-bathroom property boasts floor-to-ceiling windows, a gourmet kitchen, and a private dock. Experience luxury living on the water in this contemporary residence.\", \"NeighborhoodDescription\": \"Lakefront Living offers a peaceful retreat for water enthusiasts and nature lovers. Enjoy boating, fishing, and water sports right from your backyard, surrounded by scenic beauty and tranquility.\"},\n",
      "    {\"Neighborhood\": \"Historic District\", \"Price\": 950000, \"Bedrooms\": 4, \"Bathrooms\": 3, \"HouseSize\": \"2400 sqft\", \"Description\": \"Historic charm meets modern luxury in this beautifully restored home in the Historic District. This 4-bedroom, 3-bathroom property features original architectural details, a gourmet kitchen, and a private courtyard. Step back in time while enjoying all the comforts of contemporary living.\", \"NeighborhoodDescription\": \"The Historic District is a picturesque neighborhood with tree-lined streets, historic homes, and charming boutiques. Explore the rich history and culture of the area while being just steps away from dining and entertainment options.\"},\n",
      "    {\"Neighborhood\": \"Golf Course Community\", \"Price\": 1200000, \"Bedrooms\": 5, \"Bathrooms\": 4, \"HouseSize\": \"3200 sqft\", \"Description\": \"Custom-built home in a prestigious golf course community. This 5-bedroom, 4-bathroom property offers golf course views, a gourmet kitchen, and a private pool. Perfect for golf enthusiasts and those seeking upscale living.\", \"NeighborhoodDescription\": \"The Golf Course Community is a gated enclave with access to a championship golf course, clubhouse, and resort-style amenities. Enjoy a luxurious lifestyle with golfing, dining, and social events right at your doorstep.\"},\n",
      "    {\"Neighborhood\": \"Beachfront Retreat\", \"Price\": 2000000, \"Bedrooms\": 6, \"Bathrooms\": 5, \"HouseSize\": \"4500 sqft\", \"Description\": \"Spectacular beachfront retreat with panoramic ocean views. This 6-bedroom, 5-bathroom home features a private beach access, infinity pool, and outdoor kitchen. Experience luxury coastal living in this exclusive residence.\", \"NeighborhoodDescription\": \"Beachfront Retreat offers a private and serene escape for beach lovers and sun seekers. Enjoy walks on the sandy shores, water sports, and breathtaking sunsets right from your own backyard.\"},\n",
      "    {\"Neighborhood\": \"Equestrian Estate\", \"Price\": 1700000, \"Bedrooms\": 4, \"Bathrooms\": 3, \"HouseSize\": \"3500 sqft\", \"Description\": \"Elegant equestrian estate with horse facilities and mountain views. This 4-bedroom, 3-bathroom property features a barn, riding arena, and lush pastures. Ideal for horse enthusiasts and those seeking a peaceful country lifestyle.\", \"NeighborhoodDescription\": \"The Equestrian Estate is a horse-friendly community with riding trails, equestrian centers, and scenic vistas. Enjoy the tranquility of country living while still being close to urban amenities.\"},\n",
      "    {\"Neighborhood\": \"Ski-In/Ski-Out Chalet\", \"Price\": 1900000, \"Bedrooms\": 5, \"Bathrooms\": 4, \"HouseSize\": \"3800 sqft\", \"Description\": \"Luxury ski-in/ski-out chalet in a premier mountain resort. This 5-bedroom, 4-bathroom home features mountain views, a hot tub, and a cozy fireplace. Perfect for ski enthusiasts and those seeking a winter retreat.\", \"NeighborhoodDescription\": \"The Ski-In/Ski-Out Chalet offers direct access to world-class skiing and snowboarding slopes. Enjoy apres-ski activities, dining, and shopping in the charming resort village just steps from your front door.\"}\n",
      "]\n"
     ]
    }
   ],
   "source": [
    "output = llm(query)\n",
    "print(output)"
   ]
  },
  {
   "cell_type": "code",
   "execution_count": 7,
   "id": "0b2e47f0",
   "metadata": {},
   "outputs": [
    {
     "data": {
      "text/html": [
       "<div>\n",
       "<style scoped>\n",
       "    .dataframe tbody tr th:only-of-type {\n",
       "        vertical-align: middle;\n",
       "    }\n",
       "\n",
       "    .dataframe tbody tr th {\n",
       "        vertical-align: top;\n",
       "    }\n",
       "\n",
       "    .dataframe thead th {\n",
       "        text-align: right;\n",
       "    }\n",
       "</style>\n",
       "<table border=\"1\" class=\"dataframe\">\n",
       "  <thead>\n",
       "    <tr style=\"text-align: right;\">\n",
       "      <th></th>\n",
       "      <th>Neighborhood</th>\n",
       "      <th>Price</th>\n",
       "      <th>Bedrooms</th>\n",
       "      <th>Bathrooms</th>\n",
       "      <th>HouseSize</th>\n",
       "      <th>Description</th>\n",
       "      <th>NeighborhoodDescription</th>\n",
       "    </tr>\n",
       "  </thead>\n",
       "  <tbody>\n",
       "    <tr>\n",
       "      <th>0</th>\n",
       "      <td>Downtown</td>\n",
       "      <td>1200000</td>\n",
       "      <td>4</td>\n",
       "      <td>3</td>\n",
       "      <td>2500 sqft</td>\n",
       "      <td>Luxurious penthouse in the heart of Downtown w...</td>\n",
       "      <td>Downtown is a vibrant neighborhood with access...</td>\n",
       "    </tr>\n",
       "    <tr>\n",
       "      <th>1</th>\n",
       "      <td>Suburban Heights</td>\n",
       "      <td>650000</td>\n",
       "      <td>5</td>\n",
       "      <td>4</td>\n",
       "      <td>3000 sqft</td>\n",
       "      <td>Spacious family home in the desirable Suburban...</td>\n",
       "      <td>Suburban Heights is a family-friendly neighbor...</td>\n",
       "    </tr>\n",
       "    <tr>\n",
       "      <th>2</th>\n",
       "      <td>Waterfront Estates</td>\n",
       "      <td>1800000</td>\n",
       "      <td>6</td>\n",
       "      <td>5</td>\n",
       "      <td>4000 sqft</td>\n",
       "      <td>Elegant waterfront estate with panoramic views...</td>\n",
       "      <td>Waterfront Estates is an exclusive neighborhoo...</td>\n",
       "    </tr>\n",
       "    <tr>\n",
       "      <th>3</th>\n",
       "      <td>Mountain View</td>\n",
       "      <td>850000</td>\n",
       "      <td>3</td>\n",
       "      <td>2</td>\n",
       "      <td>2200 sqft</td>\n",
       "      <td>Charming cottage-style home with mountain view...</td>\n",
       "      <td>Mountain View is a serene neighborhood surroun...</td>\n",
       "    </tr>\n",
       "    <tr>\n",
       "      <th>4</th>\n",
       "      <td>Lakefront Living</td>\n",
       "      <td>1500000</td>\n",
       "      <td>4</td>\n",
       "      <td>3</td>\n",
       "      <td>2800 sqft</td>\n",
       "      <td>Modern lakefront home with stunning water view...</td>\n",
       "      <td>Lakefront Living offers a peaceful retreat for...</td>\n",
       "    </tr>\n",
       "  </tbody>\n",
       "</table>\n",
       "</div>"
      ],
      "text/plain": [
       "         Neighborhood    Price  Bedrooms  Bathrooms  HouseSize  \\\n",
       "0            Downtown  1200000         4          3  2500 sqft   \n",
       "1    Suburban Heights   650000         5          4  3000 sqft   \n",
       "2  Waterfront Estates  1800000         6          5  4000 sqft   \n",
       "3       Mountain View   850000         3          2  2200 sqft   \n",
       "4    Lakefront Living  1500000         4          3  2800 sqft   \n",
       "\n",
       "                                         Description  \\\n",
       "0  Luxurious penthouse in the heart of Downtown w...   \n",
       "1  Spacious family home in the desirable Suburban...   \n",
       "2  Elegant waterfront estate with panoramic views...   \n",
       "3  Charming cottage-style home with mountain view...   \n",
       "4  Modern lakefront home with stunning water view...   \n",
       "\n",
       "                             NeighborhoodDescription  \n",
       "0  Downtown is a vibrant neighborhood with access...  \n",
       "1  Suburban Heights is a family-friendly neighbor...  \n",
       "2  Waterfront Estates is an exclusive neighborhoo...  \n",
       "3  Mountain View is a serene neighborhood surroun...  \n",
       "4  Lakefront Living offers a peaceful retreat for...  "
      ]
     },
     "execution_count": 7,
     "metadata": {},
     "output_type": "execute_result"
    }
   ],
   "source": [
    "df = pd.DataFrame(json.loads(output))\n",
    "df.head()"
   ]
  },
  {
   "cell_type": "code",
   "execution_count": 8,
   "id": "13ae77c9",
   "metadata": {},
   "outputs": [],
   "source": [
    "if not os.path.exists(\"./data\"):\n",
    "    os.makedirs(\"./data\")\n",
    "    \n",
    "df.to_csv('./data/generated_listings.csv')"
   ]
  },
  {
   "cell_type": "markdown",
   "id": "9b2fd8e4",
   "metadata": {},
   "source": [
    "### Storing Listings in a Vector Database"
   ]
  },
  {
   "cell_type": "markdown",
   "id": "66ef01a8",
   "metadata": {},
   "source": [
    "* Embed vectors"
   ]
  },
  {
   "cell_type": "code",
   "execution_count": 9,
   "id": "27347705",
   "metadata": {},
   "outputs": [
    {
     "data": {
      "text/plain": [
       "'Luxurious penthouse in the heart of Downtown with stunning city views. This 4-bedroom, 3-bathroom home features high-end finishes, a gourmet kitchen, and a private rooftop terrace. Enjoy the convenience of urban living in this upscale residence.'"
      ]
     },
     "execution_count": 9,
     "metadata": {},
     "output_type": "execute_result"
    }
   ],
   "source": [
    "listings_description = list(df[\"Description\"].values)\n",
    "listings_description[0]"
   ]
  },
  {
   "cell_type": "code",
   "execution_count": 11,
   "id": "6ef5b391",
   "metadata": {},
   "outputs": [],
   "source": [
    "def generate_embeddings(emb_model, input_data: Union[str, list[str]]) -> np.ndarray:    \n",
    "    embeddings = emb_model.encode(input_data)\n",
    "    return embeddings\n",
    "\n",
    "listings_embeddings = generate_embeddings(emb_model, listings_description)"
   ]
  },
  {
   "cell_type": "code",
   "execution_count": 12,
   "id": "cdc28976",
   "metadata": {},
   "outputs": [
    {
     "data": {
      "text/plain": [
       "array([ 0.6446955 ,  0.22669806, -0.06769277, -0.00564443, -0.26699436],\n",
       "      dtype=float32)"
      ]
     },
     "execution_count": 12,
     "metadata": {},
     "output_type": "execute_result"
    }
   ],
   "source": [
    "listings_embeddings[0][:5]"
   ]
  },
  {
   "cell_type": "code",
   "execution_count": 13,
   "id": "2fcd0322",
   "metadata": {},
   "outputs": [],
   "source": [
    "df[\"vector\"] = list(listings_embeddings)"
   ]
  },
  {
   "cell_type": "code",
   "execution_count": 14,
   "id": "4ad390b1",
   "metadata": {},
   "outputs": [
    {
     "data": {
      "text/html": [
       "<div>\n",
       "<style scoped>\n",
       "    .dataframe tbody tr th:only-of-type {\n",
       "        vertical-align: middle;\n",
       "    }\n",
       "\n",
       "    .dataframe tbody tr th {\n",
       "        vertical-align: top;\n",
       "    }\n",
       "\n",
       "    .dataframe thead th {\n",
       "        text-align: right;\n",
       "    }\n",
       "</style>\n",
       "<table border=\"1\" class=\"dataframe\">\n",
       "  <thead>\n",
       "    <tr style=\"text-align: right;\">\n",
       "      <th></th>\n",
       "      <th>Neighborhood</th>\n",
       "      <th>Price</th>\n",
       "      <th>Bedrooms</th>\n",
       "      <th>Bathrooms</th>\n",
       "      <th>HouseSize</th>\n",
       "      <th>Description</th>\n",
       "      <th>NeighborhoodDescription</th>\n",
       "      <th>vector</th>\n",
       "    </tr>\n",
       "  </thead>\n",
       "  <tbody>\n",
       "    <tr>\n",
       "      <th>0</th>\n",
       "      <td>Downtown</td>\n",
       "      <td>1200000</td>\n",
       "      <td>4</td>\n",
       "      <td>3</td>\n",
       "      <td>2500 sqft</td>\n",
       "      <td>Luxurious penthouse in the heart of Downtown w...</td>\n",
       "      <td>Downtown is a vibrant neighborhood with access...</td>\n",
       "      <td>[0.6446955, 0.22669806, -0.06769277, -0.005644...</td>\n",
       "    </tr>\n",
       "    <tr>\n",
       "      <th>1</th>\n",
       "      <td>Suburban Heights</td>\n",
       "      <td>650000</td>\n",
       "      <td>5</td>\n",
       "      <td>4</td>\n",
       "      <td>3000 sqft</td>\n",
       "      <td>Spacious family home in the desirable Suburban...</td>\n",
       "      <td>Suburban Heights is a family-friendly neighbor...</td>\n",
       "      <td>[0.2741348, -0.011072203, -0.13638352, 0.00962...</td>\n",
       "    </tr>\n",
       "    <tr>\n",
       "      <th>2</th>\n",
       "      <td>Waterfront Estates</td>\n",
       "      <td>1800000</td>\n",
       "      <td>6</td>\n",
       "      <td>5</td>\n",
       "      <td>4000 sqft</td>\n",
       "      <td>Elegant waterfront estate with panoramic views...</td>\n",
       "      <td>Waterfront Estates is an exclusive neighborhoo...</td>\n",
       "      <td>[0.6878431, 0.07589187, 0.33334884, 0.37532544...</td>\n",
       "    </tr>\n",
       "    <tr>\n",
       "      <th>3</th>\n",
       "      <td>Mountain View</td>\n",
       "      <td>850000</td>\n",
       "      <td>3</td>\n",
       "      <td>2</td>\n",
       "      <td>2200 sqft</td>\n",
       "      <td>Charming cottage-style home with mountain view...</td>\n",
       "      <td>Mountain View is a serene neighborhood surroun...</td>\n",
       "      <td>[0.17909326, 0.24359195, 0.14489402, 0.4584947...</td>\n",
       "    </tr>\n",
       "    <tr>\n",
       "      <th>4</th>\n",
       "      <td>Lakefront Living</td>\n",
       "      <td>1500000</td>\n",
       "      <td>4</td>\n",
       "      <td>3</td>\n",
       "      <td>2800 sqft</td>\n",
       "      <td>Modern lakefront home with stunning water view...</td>\n",
       "      <td>Lakefront Living offers a peaceful retreat for...</td>\n",
       "      <td>[0.4604398, -0.10688394, 0.060537763, 0.343593...</td>\n",
       "    </tr>\n",
       "  </tbody>\n",
       "</table>\n",
       "</div>"
      ],
      "text/plain": [
       "         Neighborhood    Price  Bedrooms  Bathrooms  HouseSize  \\\n",
       "0            Downtown  1200000         4          3  2500 sqft   \n",
       "1    Suburban Heights   650000         5          4  3000 sqft   \n",
       "2  Waterfront Estates  1800000         6          5  4000 sqft   \n",
       "3       Mountain View   850000         3          2  2200 sqft   \n",
       "4    Lakefront Living  1500000         4          3  2800 sqft   \n",
       "\n",
       "                                         Description  \\\n",
       "0  Luxurious penthouse in the heart of Downtown w...   \n",
       "1  Spacious family home in the desirable Suburban...   \n",
       "2  Elegant waterfront estate with panoramic views...   \n",
       "3  Charming cottage-style home with mountain view...   \n",
       "4  Modern lakefront home with stunning water view...   \n",
       "\n",
       "                             NeighborhoodDescription  \\\n",
       "0  Downtown is a vibrant neighborhood with access...   \n",
       "1  Suburban Heights is a family-friendly neighbor...   \n",
       "2  Waterfront Estates is an exclusive neighborhoo...   \n",
       "3  Mountain View is a serene neighborhood surroun...   \n",
       "4  Lakefront Living offers a peaceful retreat for...   \n",
       "\n",
       "                                              vector  \n",
       "0  [0.6446955, 0.22669806, -0.06769277, -0.005644...  \n",
       "1  [0.2741348, -0.011072203, -0.13638352, 0.00962...  \n",
       "2  [0.6878431, 0.07589187, 0.33334884, 0.37532544...  \n",
       "3  [0.17909326, 0.24359195, 0.14489402, 0.4584947...  \n",
       "4  [0.4604398, -0.10688394, 0.060537763, 0.343593...  "
      ]
     },
     "execution_count": 14,
     "metadata": {},
     "output_type": "execute_result"
    }
   ],
   "source": [
    "df.head()"
   ]
  },
  {
   "cell_type": "markdown",
   "id": "0502a0cf",
   "metadata": {},
   "source": [
    "* Connecting to the database and creating the table with embeddings"
   ]
  },
  {
   "cell_type": "code",
   "execution_count": 15,
   "id": "546df233",
   "metadata": {},
   "outputs": [],
   "source": [
    "class RealEstateListings(LanceModel):\n",
    "    Neighborhood: str\n",
    "    Price: int\n",
    "    Bedrooms: int\n",
    "    Bathrooms: int\n",
    "    HouseSize: str\n",
    "    Description: str\n",
    "    NeighborhoodDescription: str\n",
    "    vector: vector(listings_embeddings.shape[1])"
   ]
  },
  {
   "cell_type": "code",
   "execution_count": 16,
   "id": "07198828",
   "metadata": {},
   "outputs": [],
   "source": [
    "db = lancedb.connect(\"~/.lancedb\")\n",
    "table_name = \"real_estate_listings\"\n",
    "db.drop_table(table_name, ignore_missing=True)\n",
    "table = db.create_table(table_name, schema=RealEstateListings)"
   ]
  },
  {
   "cell_type": "code",
   "execution_count": 17,
   "id": "9672ae94",
   "metadata": {},
   "outputs": [],
   "source": [
    "data_to_insert = df.to_dict(orient='records')\n",
    "\n",
    "# Insert the data\n",
    "table.add(data_to_insert)"
   ]
  },
  {
   "cell_type": "code",
   "execution_count": 18,
   "id": "083aa894",
   "metadata": {},
   "outputs": [
    {
     "data": {
      "text/html": [
       "<div>\n",
       "<style scoped>\n",
       "    .dataframe tbody tr th:only-of-type {\n",
       "        vertical-align: middle;\n",
       "    }\n",
       "\n",
       "    .dataframe tbody tr th {\n",
       "        vertical-align: top;\n",
       "    }\n",
       "\n",
       "    .dataframe thead th {\n",
       "        text-align: right;\n",
       "    }\n",
       "</style>\n",
       "<table border=\"1\" class=\"dataframe\">\n",
       "  <thead>\n",
       "    <tr style=\"text-align: right;\">\n",
       "      <th></th>\n",
       "      <th>Neighborhood</th>\n",
       "      <th>Price</th>\n",
       "      <th>Bedrooms</th>\n",
       "      <th>Bathrooms</th>\n",
       "      <th>HouseSize</th>\n",
       "      <th>Description</th>\n",
       "      <th>NeighborhoodDescription</th>\n",
       "      <th>vector</th>\n",
       "    </tr>\n",
       "  </thead>\n",
       "  <tbody>\n",
       "    <tr>\n",
       "      <th>0</th>\n",
       "      <td>Downtown</td>\n",
       "      <td>1200000</td>\n",
       "      <td>4</td>\n",
       "      <td>3</td>\n",
       "      <td>2500 sqft</td>\n",
       "      <td>Luxurious penthouse in the heart of Downtown w...</td>\n",
       "      <td>Downtown is a vibrant neighborhood with access...</td>\n",
       "      <td>[0.6446955, 0.22669806, -0.06769277, -0.005644...</td>\n",
       "    </tr>\n",
       "    <tr>\n",
       "      <th>1</th>\n",
       "      <td>Suburban Heights</td>\n",
       "      <td>650000</td>\n",
       "      <td>5</td>\n",
       "      <td>4</td>\n",
       "      <td>3000 sqft</td>\n",
       "      <td>Spacious family home in the desirable Suburban...</td>\n",
       "      <td>Suburban Heights is a family-friendly neighbor...</td>\n",
       "      <td>[0.2741348, -0.011072203, -0.13638352, 0.00962...</td>\n",
       "    </tr>\n",
       "    <tr>\n",
       "      <th>2</th>\n",
       "      <td>Waterfront Estates</td>\n",
       "      <td>1800000</td>\n",
       "      <td>6</td>\n",
       "      <td>5</td>\n",
       "      <td>4000 sqft</td>\n",
       "      <td>Elegant waterfront estate with panoramic views...</td>\n",
       "      <td>Waterfront Estates is an exclusive neighborhoo...</td>\n",
       "      <td>[0.6878431, 0.07589187, 0.33334884, 0.37532544...</td>\n",
       "    </tr>\n",
       "    <tr>\n",
       "      <th>3</th>\n",
       "      <td>Mountain View</td>\n",
       "      <td>850000</td>\n",
       "      <td>3</td>\n",
       "      <td>2</td>\n",
       "      <td>2200 sqft</td>\n",
       "      <td>Charming cottage-style home with mountain view...</td>\n",
       "      <td>Mountain View is a serene neighborhood surroun...</td>\n",
       "      <td>[0.17909326, 0.24359195, 0.14489402, 0.4584947...</td>\n",
       "    </tr>\n",
       "    <tr>\n",
       "      <th>4</th>\n",
       "      <td>Lakefront Living</td>\n",
       "      <td>1500000</td>\n",
       "      <td>4</td>\n",
       "      <td>3</td>\n",
       "      <td>2800 sqft</td>\n",
       "      <td>Modern lakefront home with stunning water view...</td>\n",
       "      <td>Lakefront Living offers a peaceful retreat for...</td>\n",
       "      <td>[0.4604398, -0.10688394, 0.060537763, 0.343593...</td>\n",
       "    </tr>\n",
       "  </tbody>\n",
       "</table>\n",
       "</div>"
      ],
      "text/plain": [
       "         Neighborhood    Price  Bedrooms  Bathrooms  HouseSize  \\\n",
       "0            Downtown  1200000         4          3  2500 sqft   \n",
       "1    Suburban Heights   650000         5          4  3000 sqft   \n",
       "2  Waterfront Estates  1800000         6          5  4000 sqft   \n",
       "3       Mountain View   850000         3          2  2200 sqft   \n",
       "4    Lakefront Living  1500000         4          3  2800 sqft   \n",
       "\n",
       "                                         Description  \\\n",
       "0  Luxurious penthouse in the heart of Downtown w...   \n",
       "1  Spacious family home in the desirable Suburban...   \n",
       "2  Elegant waterfront estate with panoramic views...   \n",
       "3  Charming cottage-style home with mountain view...   \n",
       "4  Modern lakefront home with stunning water view...   \n",
       "\n",
       "                             NeighborhoodDescription  \\\n",
       "0  Downtown is a vibrant neighborhood with access...   \n",
       "1  Suburban Heights is a family-friendly neighbor...   \n",
       "2  Waterfront Estates is an exclusive neighborhoo...   \n",
       "3  Mountain View is a serene neighborhood surroun...   \n",
       "4  Lakefront Living offers a peaceful retreat for...   \n",
       "\n",
       "                                              vector  \n",
       "0  [0.6446955, 0.22669806, -0.06769277, -0.005644...  \n",
       "1  [0.2741348, -0.011072203, -0.13638352, 0.00962...  \n",
       "2  [0.6878431, 0.07589187, 0.33334884, 0.37532544...  \n",
       "3  [0.17909326, 0.24359195, 0.14489402, 0.4584947...  \n",
       "4  [0.4604398, -0.10688394, 0.060537763, 0.343593...  "
      ]
     },
     "execution_count": 18,
     "metadata": {},
     "output_type": "execute_result"
    }
   ],
   "source": [
    "table.head().to_pandas()"
   ]
  },
  {
   "cell_type": "markdown",
   "id": "5c56ead5",
   "metadata": {},
   "source": [
    "## Building the User Preference Interface"
   ]
  },
  {
   "cell_type": "code",
   "execution_count": 24,
   "id": "f9b8d699",
   "metadata": {},
   "outputs": [],
   "source": [
    "SIMPLE_PROMPT =\\\n",
    "\"\"\"\n",
    "Based on the <context> you will give a suggestion of a real estate listing depending on the <preferences>\n",
    "---\n",
    "<context>\n",
    "{context}\n",
    "</context>\n",
    "---\n",
    "<preferences>\n",
    "{preferences}\n",
    "</preferences>\n",
    "\"\"\""
   ]
  },
  {
   "cell_type": "code",
   "execution_count": 25,
   "id": "e5ebb45f",
   "metadata": {},
   "outputs": [],
   "source": [
    "AUGMENTED_PROMPT =\\\n",
    "\"\"\"\n",
    "You are an AI Assistant whose main goal is to recommend real estate listings based on the <preferences> of the customer. \n",
    "You will receive a description of the buyers preference that you can find under <preferences> tags and you will reply with an informal and descriptive tone based on the <context>, ensuring that the customer will want to buy the listing.\n",
    "The descriptions should be unique, appealing, and tailored to the preferences provided.\n",
    "Remember you cannot change any factual information.\n",
    "\n",
    "<context>\n",
    "{context}\n",
    "</context>\n",
    "---\n",
    "<preferences>\n",
    "{preferences}\n",
    "</preferences>\n",
    "\"\"\""
   ]
  },
  {
   "cell_type": "code",
   "execution_count": 44,
   "id": "9f53360a",
   "metadata": {},
   "outputs": [],
   "source": [
    "def app_response(llm, emb_model, table, buyer_preferences = None, augmented = False):\n",
    "    \n",
    "    #Initialize buyer_preferences\n",
    "    if buyer_preferences is None:\n",
    "        buyer_preferences = {}\n",
    "        \n",
    "    #Questions\n",
    "    questions = [\n",
    "        \"How big do you want your house to be?\",\n",
    "        \"What are 3 most important things for you in choosing this property?\", \n",
    "        \"Which amenities would you like?\", \n",
    "        \"Which transportation options are important to you?\",\n",
    "        \"How urban do you want your neighborhood to be?\"\n",
    "    ]\n",
    "    \n",
    "    #Checking if all questions are there\n",
    "    for question in questions:\n",
    "        if question not in buyer_preferences:\n",
    "            return {\"next_question\": question}\n",
    "    \n",
    "    #Unifying text\n",
    "    preferences_text = \"\\n\".join([f\"- {q}: {buyer_preferences[q]}\" for q in questions])\n",
    "        \n",
    "    #getting prompt if augmented\n",
    "    prompt_template = ChatPromptTemplate.from_template(AUGMENTED_PROMPT if augmented else SIMPLE_PROMPT)\n",
    "\n",
    "    \n",
    "    #Connecting to the database\n",
    "    db = lancedb.connect(\"~/.lancedb\")  # Replace with your LanceDB path\n",
    "\n",
    "    #Embeddings\n",
    "    query_embedding = emb_model.encode(preferences_text)\n",
    "\n",
    "    # Perform the similarity search -> top 3 results\n",
    "    results = table.search(query_embedding).limit(3).to_list()\n",
    "\n",
    "    # Display the results\n",
    "    #for result in results:\n",
    "    #    print(result[\"Description\"])\n",
    "    \n",
    "    #getting the context\n",
    "    context = \"\\n\\n\".join([f\"Option {i+1}: {result['Description']}\" for i, result in enumerate(results)])\n",
    "\n",
    "    \n",
    "    #Calling the prompt\n",
    "    prompt = prompt_template.format(context=context, preferences=preferences_text)\n",
    "    print(f\"Generated Prompt:\\n{prompt}\")\n",
    "    \n",
    "    #Use LLM\n",
    "    response_text = llm.predict(prompt)\n",
    "    print(\"Response:\")\n",
    "    print(response_text)\n",
    "    print(\"\\n\\n\")"
   ]
  },
  {
   "cell_type": "code",
   "execution_count": 45,
   "id": "d022f447",
   "metadata": {},
   "outputs": [],
   "source": [
    "buyers_preferences = {\n",
    "    \"How big do you want your house to be?\": \"A three-bedroom house with a garden.\",\n",
    "    \"What are 3 most important things for you in choosing this property?\": \"Quiet neighborhood, good schools, near shopping centers.\",\n",
    "    \"Which amenities would you like?\": \"Garage, modern kitchen, smart home features.\",\n",
    "    \"Which transportation options are important to you?\": \"Near a metro station, easy highway access, bike-friendly roads.\",\n",
    "    \"How urban do you want your neighborhood to be?\": \"A mix between suburban calm and access to city life.\"\n",
    "}"
   ]
  },
  {
   "cell_type": "markdown",
   "id": "fb34961a",
   "metadata": {},
   "source": [
    "### First using the simple prompt"
   ]
  },
  {
   "cell_type": "code",
   "execution_count": 46,
   "id": "d5b8e4b2",
   "metadata": {},
   "outputs": [
    {
     "name": "stdout",
     "output_type": "stream",
     "text": [
      "Generated Prompt:\n",
      "Human: \n",
      "Based on the <context> you will give a suggestion of a real estate listing depending on the <preferences>\n",
      "---\n",
      "<context>\n",
      "Option 1: Spacious family home in the desirable Suburban Heights neighborhood. This 5-bedroom, 4-bathroom property offers a large backyard, updated kitchen, and a cozy fireplace. Perfect for families looking for a quiet and safe community.\n",
      "\n",
      "Option 2: Luxurious penthouse in the heart of Downtown with stunning city views. This 4-bedroom, 3-bathroom home features high-end finishes, a gourmet kitchen, and a private rooftop terrace. Enjoy the convenience of urban living in this upscale residence.\n",
      "\n",
      "Option 3: Charming cottage-style home with mountain views in the peaceful Mountain View neighborhood. This 3-bedroom, 2-bathroom property features a cozy fireplace, updated kitchen, and a spacious deck for outdoor entertaining. Perfect for nature lovers seeking a tranquil retreat.\n",
      "</context>\n",
      "---\n",
      "<preferences>\n",
      "- How big do you want your house to be?: A three-bedroom house with a garden.\n",
      "- What are 3 most important things for you in choosing this property?: Quiet neighborhood, good schools, near shopping centers.\n",
      "- Which amenities would you like?: Garage, modern kitchen, smart home features.\n",
      "- Which transportation options are important to you?: Near a metro station, easy highway access, bike-friendly roads.\n",
      "- How urban do you want your neighborhood to be?: A mix between suburban calm and access to city life.\n",
      "</preferences>\n",
      "\n",
      "Response:\n",
      "Based on your preferences, I would suggest considering the charming cottage-style home with mountain views in the peaceful Mountain View neighborhood. This 3-bedroom, 2-bathroom property offers a quiet neighborhood, good schools nearby, and is in close proximity to shopping centers. It features a modern kitchen, a garage, and a cozy fireplace. Additionally, the spacious deck for outdoor entertaining and mountain views provide a tranquil retreat. The neighborhood offers a mix between suburban calm and access to city life.\n",
      "\n",
      "\n",
      "\n"
     ]
    }
   ],
   "source": [
    "app_response(llm, emb_model, table, buyers_preferences, augmented = False)"
   ]
  },
  {
   "cell_type": "markdown",
   "id": "d6b20345",
   "metadata": {},
   "source": [
    "### Then the augmented prompt"
   ]
  },
  {
   "cell_type": "code",
   "execution_count": 47,
   "id": "319cf875",
   "metadata": {},
   "outputs": [
    {
     "name": "stdout",
     "output_type": "stream",
     "text": [
      "Generated Prompt:\n",
      "Human: \n",
      "You are an AI Assistant whose main goal is to recommend real estate listings based on the <preferences> of the customer. \n",
      "You will receive a description of the buyers preference that you can find under <preferences> tags and you will reply with an informal and descriptive tone based on the <context>, ensuring that the customer will want to buy the listing.\n",
      "The descriptions should be unique, appealing, and tailored to the preferences provided.\n",
      "Remember you cannot change any factual information.\n",
      "\n",
      "<context>\n",
      "Option 1: Spacious family home in the desirable Suburban Heights neighborhood. This 5-bedroom, 4-bathroom property offers a large backyard, updated kitchen, and a cozy fireplace. Perfect for families looking for a quiet and safe community.\n",
      "\n",
      "Option 2: Luxurious penthouse in the heart of Downtown with stunning city views. This 4-bedroom, 3-bathroom home features high-end finishes, a gourmet kitchen, and a private rooftop terrace. Enjoy the convenience of urban living in this upscale residence.\n",
      "\n",
      "Option 3: Charming cottage-style home with mountain views in the peaceful Mountain View neighborhood. This 3-bedroom, 2-bathroom property features a cozy fireplace, updated kitchen, and a spacious deck for outdoor entertaining. Perfect for nature lovers seeking a tranquil retreat.\n",
      "</context>\n",
      "---\n",
      "<preferences>\n",
      "- How big do you want your house to be?: A three-bedroom house with a garden.\n",
      "- What are 3 most important things for you in choosing this property?: Quiet neighborhood, good schools, near shopping centers.\n",
      "- Which amenities would you like?: Garage, modern kitchen, smart home features.\n",
      "- Which transportation options are important to you?: Near a metro station, easy highway access, bike-friendly roads.\n",
      "- How urban do you want your neighborhood to be?: A mix between suburban calm and access to city life.\n",
      "</preferences>\n",
      "\n",
      "Response:\n",
      "Hey there! I've got the perfect listing for you! \n",
      "\n",
      "Option 3: This charming cottage-style home in the peaceful Mountain View neighborhood is just what you're looking for. With 3 bedrooms, 2 bathrooms, and a garden with mountain views, it's the ideal tranquil retreat. Plus, it's near good schools, shopping centers, and has a garage for your convenience. The modern kitchen, cozy fireplace, and spacious deck for outdoor entertaining make this home a dream come true. And with easy access to bike-friendly roads and a mix of suburban calm and city life, you'll have everything you need right at your fingertips. Don't miss out on this gem!\n",
      "\n",
      "\n",
      "\n"
     ]
    }
   ],
   "source": [
    "app_response(llm, emb_model, table, buyers_preferences, augmented = True)"
   ]
  },
  {
   "cell_type": "code",
   "execution_count": null,
   "id": "b9f09d10",
   "metadata": {},
   "outputs": [],
   "source": []
  }
 ],
 "metadata": {
  "kernelspec": {
   "display_name": "Python 3 (ipykernel)",
   "language": "python",
   "name": "python3"
  },
  "language_info": {
   "codemirror_mode": {
    "name": "ipython",
    "version": 3
   },
   "file_extension": ".py",
   "mimetype": "text/x-python",
   "name": "python",
   "nbconvert_exporter": "python",
   "pygments_lexer": "ipython3",
   "version": "3.10.11"
  }
 },
 "nbformat": 4,
 "nbformat_minor": 5
}
