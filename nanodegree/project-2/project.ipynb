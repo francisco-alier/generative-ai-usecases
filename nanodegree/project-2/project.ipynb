{
 "cells": [
  {
   "cell_type": "markdown",
   "id": "124e5672",
   "metadata": {},
   "source": [
    "# Custom Chatbot Project"
   ]
  },
  {
   "cell_type": "markdown",
   "id": "2a4a94b3",
   "metadata": {},
   "source": [
    "TODO: In this cell, write an explanation of which dataset you have chosen and why it is appropriate for this task\n",
    "\n",
    "* I have decided to use the wikipedia information on the [2024 Oscar's](https://en.wikipedia.org/wiki/96th_Academy_Awards), namely the Winners of the different categories\n",
    "* I chose this information since the model I will use (gtp-4o-mini) only has information until 2021 so it can't know the winners of the Oscar's edition of 2024. This will make the custom RAG application knowladgeable about this edition of the Oscar's"
   ]
  },
  {
   "cell_type": "markdown",
   "id": "a63d4c5f",
   "metadata": {},
   "source": [
    "## Data Wrangling\n",
    "\n",
    "TODO: In the cells below, load your chosen dataset into a `pandas` dataframe with a column named `\"text\"`. This column should contain all of your text data, separated into at least 20 rows."
   ]
  },
  {
   "cell_type": "code",
   "execution_count": 1,
   "id": "c1119809",
   "metadata": {},
   "outputs": [],
   "source": [
    "import requests\n",
    "import json\n",
    "from bs4 import BeautifulSoup\n",
    "import pandas as pd"
   ]
  },
  {
   "cell_type": "code",
   "execution_count": 2,
   "id": "c69b83a1",
   "metadata": {},
   "outputs": [],
   "source": [
    "def scrape_wikipedia(url: str):\n",
    "    \n",
    "    #Get repsonse\n",
    "    response = requests.get(url)\n",
    "    \n",
    "    if response.status_code == 200:\n",
    "        print(\"Success!\")\n",
    "        \n",
    "        #Parse content\n",
    "        parsed_content = BeautifulSoup(response.content, 'html.parser')\n",
    "        \n",
    "        winners_section = parsed_content.find('h2', id='Winners_and_nominees')\n",
    "        print(winners_section)\n",
    "        #Get metadata\n",
    "        title = parsed_content.title.string\n",
    "        \n",
    "        header = parsed_content.find('h2', id='Winners_and_nominees').text\n",
    "        \n",
    "        if winners_section:\n",
    "            section_header = winners_section.find_parent()\n",
    "            \n",
    "             # Get the next sibling elements until the next header\n",
    "            nominees_content = []\n",
    "            for sibling in section_header.find_next_siblings():\n",
    "                if sibling.name and sibling.name.startswith('h'):  # Stop at the next header\n",
    "                    break\n",
    "                nominees_content.append(sibling)\n",
    "\n",
    "            # Join the content into a single string\n",
    "            nominees_text = ''.join(str(content) for content in nominees_content)\n",
    "\n",
    "            # Clean up the extracted content\n",
    "            cleaned_nominees_text = BeautifulSoup(nominees_text, 'html.parser').get_text()\n",
    "            \n",
    "             # Extract winners from the cleaned nominees text\n",
    "            lines = []\n",
    "            winners = []\n",
    "\n",
    "            for idx, line in enumerate(cleaned_nominees_text.splitlines()):\n",
    "                lines.append(line)\n",
    "                if '‡' in line:\n",
    "                    winner = lines[idx-1] + \" - \" + line.strip()\n",
    "                    winners.append(winner) \n",
    "        \n",
    "        #need to remove the first element since it is non-informative\n",
    "        df = pd.DataFrame({\"text\": winners[1:]})\n",
    "        \n",
    "        return df\n",
    "    else: \n",
    "        print(\"Failed repsonse!\")"
   ]
  },
  {
   "cell_type": "code",
   "execution_count": 3,
   "id": "0a595980",
   "metadata": {},
   "outputs": [
    {
     "name": "stdout",
     "output_type": "stream",
     "text": [
      "Success!\n",
      "<h2 id=\"Winners_and_nominees\">Winners and nominees</h2>\n"
     ]
    }
   ],
   "source": [
    "df = scrape_wikipedia(\"https://en.wikipedia.org/wiki/96th_Academy_Awards\")"
   ]
  },
  {
   "cell_type": "code",
   "execution_count": 4,
   "id": "07aa9764",
   "metadata": {},
   "outputs": [
    {
     "name": "stdout",
     "output_type": "stream",
     "text": [
      "(23, 1)\n",
      "                                                text\n",
      "0  Best Picture - Oppenheimer – Emma Thomas, Char...\n",
      "1  Best Director - Christopher Nolan – Oppenheimer ‡\n",
      "2  Best Actor - Cillian Murphy – Oppenheimer as J...\n",
      "3  Best Actress - Emma Stone – Poor Things as Bel...\n",
      "4  Best Supporting Actor - Robert Downey Jr. – Op...\n",
      "5  Best Supporting Actress - Da'Vine Joy Randolph...\n",
      "6  Best Original Screenplay - Anatomy of a Fall –...\n",
      "7  Best Adapted Screenplay[22] - American Fiction...\n",
      "8  Best Animated Feature - The Boy and the Heron ...\n",
      "9  Best International Feature Film - The Zone of ...\n"
     ]
    }
   ],
   "source": [
    "print(df.shape)\n",
    "print(df.head(10))"
   ]
  },
  {
   "cell_type": "markdown",
   "id": "ae769871",
   "metadata": {},
   "source": [
    "## Custom Query Completion\n",
    "\n",
    "TODO: In the cells below, compose a custom query using your chosen dataset and retrieve results from an OpenAI `Completion` model. You may copy and paste any useful code from the course materials."
   ]
  },
  {
   "cell_type": "code",
   "execution_count": 5,
   "id": "582f0656",
   "metadata": {},
   "outputs": [],
   "source": [
    "import openai\n",
    "from openai.embeddings_utils import get_embedding, distances_from_embeddings\n",
    "openai.api_base = \"https://openai.vocareum.com/v1\"\n",
    "openai.api_key = \"YOUR API KEY\""
   ]
  },
  {
   "cell_type": "markdown",
   "id": "d15d0617",
   "metadata": {},
   "source": [
    "### First, I validate the LLM is not aware that the 2024 Oscars already took place"
   ]
  },
  {
   "cell_type": "code",
   "execution_count": 7,
   "id": "8b6e1f75",
   "metadata": {},
   "outputs": [
    {
     "name": "stdout",
     "output_type": "stream",
     "text": [
      "It is not possible to accurately answer this question as the 2024 Oscars have not yet taken place. The winner for Best Director in the 2024 Oscars will be announced during the ceremony itself.\n"
     ]
    }
   ],
   "source": [
    "question1 = \"\"\"\n",
    "\"Who was the winner of the Oscar for Best Director in the 2024 Oscars?\"\n",
    "\n",
    "\"\"\"\n",
    "answer = openai.Completion.create(\n",
    "    model=\"gpt-3.5-turbo-instruct\",\n",
    "    prompt=question1,\n",
    "    max_tokens=200\n",
    ")[\"choices\"][0][\"text\"].strip()\n",
    "\n",
    "print(answer)"
   ]
  },
  {
   "cell_type": "code",
   "execution_count": 8,
   "id": "1f1f331e",
   "metadata": {},
   "outputs": [
    {
     "name": "stdout",
     "output_type": "stream",
     "text": [
      "I am an AI and do not have access to future events or information. I also do not track Oscars or other award shows. Is there something else I can assist you with?\n"
     ]
    }
   ],
   "source": [
    "question2 = \"\"\"\n",
    "\"Do you know who was the best supporting acctress winner in the 2024 Oscars?\"\n",
    "\n",
    "\"\"\"\n",
    "answer = openai.Completion.create(\n",
    "    model=\"gpt-3.5-turbo-instruct\",\n",
    "    prompt=question2,\n",
    "    max_tokens=200\n",
    ")[\"choices\"][0][\"text\"].strip()\n",
    "\n",
    "print(answer)"
   ]
  },
  {
   "cell_type": "markdown",
   "id": "643674bf",
   "metadata": {},
   "source": [
    "### I then create the embeddings"
   ]
  },
  {
   "cell_type": "code",
   "execution_count": 9,
   "id": "c403f543",
   "metadata": {},
   "outputs": [],
   "source": [
    "def create_embeddings(df, embedding_name = \"text-embedding-ada-002\"):\n",
    "        \n",
    "    #iterate\n",
    "    embeddings = []\n",
    "    for index, row in df.iterrows():\n",
    "        \n",
    "        text = row[\"text\"]\n",
    "        # Send text data to OpenAI model to get embeddings\n",
    "        response = openai.Embedding.create(\n",
    "            input=text,\n",
    "            engine=embedding_name\n",
    "        )\n",
    "\n",
    "        # Add embeddings to list\n",
    "        embeddings.extend([data[\"embedding\"] for data in response[\"data\"]])\n",
    "\n",
    "    # Add embeddings list to dataframe\n",
    "    df[\"embeddings\"] = embeddings\n",
    "    \n",
    "    return df"
   ]
  },
  {
   "cell_type": "code",
   "execution_count": 10,
   "id": "74280b92",
   "metadata": {},
   "outputs": [],
   "source": [
    "df_emb = create_embeddings(df)"
   ]
  },
  {
   "cell_type": "code",
   "execution_count": 11,
   "id": "f58421e4",
   "metadata": {},
   "outputs": [
    {
     "data": {
      "text/html": [
       "<div>\n",
       "<style scoped>\n",
       "    .dataframe tbody tr th:only-of-type {\n",
       "        vertical-align: middle;\n",
       "    }\n",
       "\n",
       "    .dataframe tbody tr th {\n",
       "        vertical-align: top;\n",
       "    }\n",
       "\n",
       "    .dataframe thead th {\n",
       "        text-align: right;\n",
       "    }\n",
       "</style>\n",
       "<table border=\"1\" class=\"dataframe\">\n",
       "  <thead>\n",
       "    <tr style=\"text-align: right;\">\n",
       "      <th></th>\n",
       "      <th>text</th>\n",
       "      <th>embeddings</th>\n",
       "    </tr>\n",
       "  </thead>\n",
       "  <tbody>\n",
       "    <tr>\n",
       "      <th>0</th>\n",
       "      <td>Best Picture - Oppenheimer – Emma Thomas, Char...</td>\n",
       "      <td>[-0.014236527495086193, -0.017690204083919525,...</td>\n",
       "    </tr>\n",
       "    <tr>\n",
       "      <th>1</th>\n",
       "      <td>Best Director - Christopher Nolan – Oppenheimer ‡</td>\n",
       "      <td>[-0.008370069786906242, -0.011518937535583973,...</td>\n",
       "    </tr>\n",
       "    <tr>\n",
       "      <th>2</th>\n",
       "      <td>Best Actor - Cillian Murphy – Oppenheimer as J...</td>\n",
       "      <td>[-0.02766180783510208, -0.017674298956990242, ...</td>\n",
       "    </tr>\n",
       "    <tr>\n",
       "      <th>3</th>\n",
       "      <td>Best Actress - Emma Stone – Poor Things as Bel...</td>\n",
       "      <td>[-0.02568988874554634, -0.0269196517765522, 0....</td>\n",
       "    </tr>\n",
       "    <tr>\n",
       "      <th>4</th>\n",
       "      <td>Best Supporting Actor - Robert Downey Jr. – Op...</td>\n",
       "      <td>[-0.023602420464158058, 0.008683276362717152, ...</td>\n",
       "    </tr>\n",
       "  </tbody>\n",
       "</table>\n",
       "</div>"
      ],
      "text/plain": [
       "                                                text  \\\n",
       "0  Best Picture - Oppenheimer – Emma Thomas, Char...   \n",
       "1  Best Director - Christopher Nolan – Oppenheimer ‡   \n",
       "2  Best Actor - Cillian Murphy – Oppenheimer as J...   \n",
       "3  Best Actress - Emma Stone – Poor Things as Bel...   \n",
       "4  Best Supporting Actor - Robert Downey Jr. – Op...   \n",
       "\n",
       "                                          embeddings  \n",
       "0  [-0.014236527495086193, -0.017690204083919525,...  \n",
       "1  [-0.008370069786906242, -0.011518937535583973,...  \n",
       "2  [-0.02766180783510208, -0.017674298956990242, ...  \n",
       "3  [-0.02568988874554634, -0.0269196517765522, 0....  \n",
       "4  [-0.023602420464158058, 0.008683276362717152, ...  "
      ]
     },
     "execution_count": 11,
     "metadata": {},
     "output_type": "execute_result"
    }
   ],
   "source": [
    "df_emb.head()"
   ]
  },
  {
   "cell_type": "markdown",
   "id": "83d8cad8",
   "metadata": {},
   "source": [
    "### Next I calculate the distances"
   ]
  },
  {
   "cell_type": "code",
   "execution_count": 17,
   "id": "7a348be0",
   "metadata": {},
   "outputs": [],
   "source": [
    "def calculate_distances(df_emb, question, embedding_name = \"text-embedding-ada-002\"):\n",
    "    \n",
    "    #First calculate embedding based on user question:\n",
    "    question_emb = get_embedding(question, engine=embedding_name)\n",
    "    \n",
    "    #Let's calculate distances and sort\n",
    "    df_emb_dist = df_emb.copy()\n",
    "    \n",
    "    # Distances\n",
    "    df_emb_dist[\"distances\"] = distances_from_embeddings(\n",
    "        question_emb,\n",
    "        df_emb_dist[\"embeddings\"].to_list(),\n",
    "        distance_metric=\"cosine\"\n",
    "    )\n",
    "    \n",
    "    #Sorting\n",
    "    df_emb_dist.sort_values(\"distances\", ascending = True, inplace = True)\n",
    "    \n",
    "    return df_emb_dist"
   ]
  },
  {
   "cell_type": "code",
   "execution_count": 18,
   "id": "f35e478e",
   "metadata": {},
   "outputs": [
    {
     "data": {
      "text/html": [
       "<div>\n",
       "<style scoped>\n",
       "    .dataframe tbody tr th:only-of-type {\n",
       "        vertical-align: middle;\n",
       "    }\n",
       "\n",
       "    .dataframe tbody tr th {\n",
       "        vertical-align: top;\n",
       "    }\n",
       "\n",
       "    .dataframe thead th {\n",
       "        text-align: right;\n",
       "    }\n",
       "</style>\n",
       "<table border=\"1\" class=\"dataframe\">\n",
       "  <thead>\n",
       "    <tr style=\"text-align: right;\">\n",
       "      <th></th>\n",
       "      <th>text</th>\n",
       "      <th>embeddings</th>\n",
       "      <th>distances</th>\n",
       "    </tr>\n",
       "  </thead>\n",
       "  <tbody>\n",
       "    <tr>\n",
       "      <th>1</th>\n",
       "      <td>Best Director - Christopher Nolan – Oppenheimer ‡</td>\n",
       "      <td>[-0.008370069786906242, -0.011518937535583973,...</td>\n",
       "      <td>0.208632</td>\n",
       "    </tr>\n",
       "    <tr>\n",
       "      <th>18</th>\n",
       "      <td>Best Cinematography - Oppenheimer – Hoyte van ...</td>\n",
       "      <td>[-0.0018361049005761743, -0.008508363738656044...</td>\n",
       "      <td>0.227347</td>\n",
       "    </tr>\n",
       "    <tr>\n",
       "      <th>21</th>\n",
       "      <td>Best Film Editing - Oppenheimer – Jennifer Lame ‡</td>\n",
       "      <td>[-0.017987269908189774, 0.015496301464736462, ...</td>\n",
       "      <td>0.228611</td>\n",
       "    </tr>\n",
       "    <tr>\n",
       "      <th>0</th>\n",
       "      <td>Best Picture - Oppenheimer – Emma Thomas, Char...</td>\n",
       "      <td>[-0.014236527495086193, -0.017690204083919525,...</td>\n",
       "      <td>0.230984</td>\n",
       "    </tr>\n",
       "    <tr>\n",
       "      <th>13</th>\n",
       "      <td>Best Animated Short Film - War Is Over! Inspir...</td>\n",
       "      <td>[-0.022053616121411324, -0.01141801755875349, ...</td>\n",
       "      <td>0.232826</td>\n",
       "    </tr>\n",
       "    <tr>\n",
       "      <th>4</th>\n",
       "      <td>Best Supporting Actor - Robert Downey Jr. – Op...</td>\n",
       "      <td>[-0.023602420464158058, 0.008683276362717152, ...</td>\n",
       "      <td>0.233569</td>\n",
       "    </tr>\n",
       "    <tr>\n",
       "      <th>12</th>\n",
       "      <td>Best Live Action Short Film - The Wonderful St...</td>\n",
       "      <td>[-0.004012526012957096, 0.0025663787964731455,...</td>\n",
       "      <td>0.233854</td>\n",
       "    </tr>\n",
       "    <tr>\n",
       "      <th>2</th>\n",
       "      <td>Best Actor - Cillian Murphy – Oppenheimer as J...</td>\n",
       "      <td>[-0.02766180783510208, -0.017674298956990242, ...</td>\n",
       "      <td>0.233855</td>\n",
       "    </tr>\n",
       "    <tr>\n",
       "      <th>9</th>\n",
       "      <td>Best International Feature Film - The Zone of ...</td>\n",
       "      <td>[-0.0027441319543868303, -0.022614292800426483...</td>\n",
       "      <td>0.238850</td>\n",
       "    </tr>\n",
       "    <tr>\n",
       "      <th>8</th>\n",
       "      <td>Best Animated Feature - The Boy and the Heron ...</td>\n",
       "      <td>[-0.005875669419765472, -0.00873585231602192, ...</td>\n",
       "      <td>0.243896</td>\n",
       "    </tr>\n",
       "    <tr>\n",
       "      <th>10</th>\n",
       "      <td>Best Documentary Feature Film - 20 Days in Mar...</td>\n",
       "      <td>[0.0002901044790633023, 0.007540621794760227, ...</td>\n",
       "      <td>0.244178</td>\n",
       "    </tr>\n",
       "    <tr>\n",
       "      <th>14</th>\n",
       "      <td>Best Original Score - Oppenheimer – Ludwig Gör...</td>\n",
       "      <td>[-0.006034411955624819, -0.007661979179829359,...</td>\n",
       "      <td>0.244390</td>\n",
       "    </tr>\n",
       "    <tr>\n",
       "      <th>7</th>\n",
       "      <td>Best Adapted Screenplay[22] - American Fiction...</td>\n",
       "      <td>[0.0027265900280326605, -0.0043893842957913876...</td>\n",
       "      <td>0.248191</td>\n",
       "    </tr>\n",
       "    <tr>\n",
       "      <th>22</th>\n",
       "      <td>Best Visual Effects - Godzilla Minus One – Tak...</td>\n",
       "      <td>[-0.00821674894541502, -0.008230119943618774, ...</td>\n",
       "      <td>0.248426</td>\n",
       "    </tr>\n",
       "    <tr>\n",
       "      <th>11</th>\n",
       "      <td>Best Documentary Short Film - The Last Repair ...</td>\n",
       "      <td>[-0.004405312705785036, 0.010662233456969261, ...</td>\n",
       "      <td>0.252766</td>\n",
       "    </tr>\n",
       "    <tr>\n",
       "      <th>6</th>\n",
       "      <td>Best Original Screenplay - Anatomy of a Fall –...</td>\n",
       "      <td>[0.007960344664752483, 0.004192980006337166, 0...</td>\n",
       "      <td>0.256402</td>\n",
       "    </tr>\n",
       "    <tr>\n",
       "      <th>15</th>\n",
       "      <td>Best Original Song - \"What Was I Made For?\" fr...</td>\n",
       "      <td>[-0.014436834491789341, -0.022260991856455803,...</td>\n",
       "      <td>0.258990</td>\n",
       "    </tr>\n",
       "    <tr>\n",
       "      <th>5</th>\n",
       "      <td>Best Supporting Actress - Da'Vine Joy Randolph...</td>\n",
       "      <td>[-0.0167937483638525, -0.0287106242030859, 0.0...</td>\n",
       "      <td>0.269448</td>\n",
       "    </tr>\n",
       "    <tr>\n",
       "      <th>20</th>\n",
       "      <td>Best Costume Design - Poor Things – Holly Wadd...</td>\n",
       "      <td>[-0.018221402540802956, -0.018658170476555824,...</td>\n",
       "      <td>0.270723</td>\n",
       "    </tr>\n",
       "    <tr>\n",
       "      <th>17</th>\n",
       "      <td>Best Production Design - Poor Things – Product...</td>\n",
       "      <td>[-0.008400446735322475, -0.01226011198014021, ...</td>\n",
       "      <td>0.274970</td>\n",
       "    </tr>\n",
       "    <tr>\n",
       "      <th>3</th>\n",
       "      <td>Best Actress - Emma Stone – Poor Things as Bel...</td>\n",
       "      <td>[-0.02568988874554634, -0.0269196517765522, 0....</td>\n",
       "      <td>0.278056</td>\n",
       "    </tr>\n",
       "    <tr>\n",
       "      <th>16</th>\n",
       "      <td>Best Sound - The Zone of Interest – Tarn Wille...</td>\n",
       "      <td>[0.0020826917607337236, -0.016454128548502922,...</td>\n",
       "      <td>0.285530</td>\n",
       "    </tr>\n",
       "    <tr>\n",
       "      <th>19</th>\n",
       "      <td>Best Makeup and Hairstyling - Poor Things – Na...</td>\n",
       "      <td>[-0.008770469576120377, -0.008853997103869915,...</td>\n",
       "      <td>0.288796</td>\n",
       "    </tr>\n",
       "  </tbody>\n",
       "</table>\n",
       "</div>"
      ],
      "text/plain": [
       "                                                 text  \\\n",
       "1   Best Director - Christopher Nolan – Oppenheimer ‡   \n",
       "18  Best Cinematography - Oppenheimer – Hoyte van ...   \n",
       "21  Best Film Editing - Oppenheimer – Jennifer Lame ‡   \n",
       "0   Best Picture - Oppenheimer – Emma Thomas, Char...   \n",
       "13  Best Animated Short Film - War Is Over! Inspir...   \n",
       "4   Best Supporting Actor - Robert Downey Jr. – Op...   \n",
       "12  Best Live Action Short Film - The Wonderful St...   \n",
       "2   Best Actor - Cillian Murphy – Oppenheimer as J...   \n",
       "9   Best International Feature Film - The Zone of ...   \n",
       "8   Best Animated Feature - The Boy and the Heron ...   \n",
       "10  Best Documentary Feature Film - 20 Days in Mar...   \n",
       "14  Best Original Score - Oppenheimer – Ludwig Gör...   \n",
       "7   Best Adapted Screenplay[22] - American Fiction...   \n",
       "22  Best Visual Effects - Godzilla Minus One – Tak...   \n",
       "11  Best Documentary Short Film - The Last Repair ...   \n",
       "6   Best Original Screenplay - Anatomy of a Fall –...   \n",
       "15  Best Original Song - \"What Was I Made For?\" fr...   \n",
       "5   Best Supporting Actress - Da'Vine Joy Randolph...   \n",
       "20  Best Costume Design - Poor Things – Holly Wadd...   \n",
       "17  Best Production Design - Poor Things – Product...   \n",
       "3   Best Actress - Emma Stone – Poor Things as Bel...   \n",
       "16  Best Sound - The Zone of Interest – Tarn Wille...   \n",
       "19  Best Makeup and Hairstyling - Poor Things – Na...   \n",
       "\n",
       "                                           embeddings  distances  \n",
       "1   [-0.008370069786906242, -0.011518937535583973,...   0.208632  \n",
       "18  [-0.0018361049005761743, -0.008508363738656044...   0.227347  \n",
       "21  [-0.017987269908189774, 0.015496301464736462, ...   0.228611  \n",
       "0   [-0.014236527495086193, -0.017690204083919525,...   0.230984  \n",
       "13  [-0.022053616121411324, -0.01141801755875349, ...   0.232826  \n",
       "4   [-0.023602420464158058, 0.008683276362717152, ...   0.233569  \n",
       "12  [-0.004012526012957096, 0.0025663787964731455,...   0.233854  \n",
       "2   [-0.02766180783510208, -0.017674298956990242, ...   0.233855  \n",
       "9   [-0.0027441319543868303, -0.022614292800426483...   0.238850  \n",
       "8   [-0.005875669419765472, -0.00873585231602192, ...   0.243896  \n",
       "10  [0.0002901044790633023, 0.007540621794760227, ...   0.244178  \n",
       "14  [-0.006034411955624819, -0.007661979179829359,...   0.244390  \n",
       "7   [0.0027265900280326605, -0.0043893842957913876...   0.248191  \n",
       "22  [-0.00821674894541502, -0.008230119943618774, ...   0.248426  \n",
       "11  [-0.004405312705785036, 0.010662233456969261, ...   0.252766  \n",
       "6   [0.007960344664752483, 0.004192980006337166, 0...   0.256402  \n",
       "15  [-0.014436834491789341, -0.022260991856455803,...   0.258990  \n",
       "5   [-0.0167937483638525, -0.0287106242030859, 0.0...   0.269448  \n",
       "20  [-0.018221402540802956, -0.018658170476555824,...   0.270723  \n",
       "17  [-0.008400446735322475, -0.01226011198014021, ...   0.274970  \n",
       "3   [-0.02568988874554634, -0.0269196517765522, 0....   0.278056  \n",
       "16  [0.0020826917607337236, -0.016454128548502922,...   0.285530  \n",
       "19  [-0.008770469576120377, -0.008853997103869915,...   0.288796  "
      ]
     },
     "execution_count": 18,
     "metadata": {},
     "output_type": "execute_result"
    }
   ],
   "source": [
    "calculate_distances(df_emb, question=question1)"
   ]
  },
  {
   "cell_type": "markdown",
   "id": "7fbaf5dd",
   "metadata": {},
   "source": [
    "### Now creating a costum prompt\n",
    "* Note: I have decided not to use the trick explained in the course to get the maximum context since my dataset is small and I do not want to confuse my RAG Model"
   ]
  },
  {
   "cell_type": "code",
   "execution_count": 40,
   "id": "63e03a46",
   "metadata": {},
   "outputs": [],
   "source": [
    "def create_prompt(question, df):\n",
    "    \n",
    "    prompt_template = \"\"\"\n",
    "                    Answer the question based on the context below, and if the question\n",
    "                    can't be answered based on the context, say \"I don't know\"\n",
    "\n",
    "                    Context: \n",
    "\n",
    "                    {}\n",
    "\n",
    "                    ---\n",
    "\n",
    "                    Question: {}\n",
    "                    Answer:\n",
    "                    \"\"\"\n",
    "    \n",
    "    df_dist = calculate_distances(df_emb, question=question)\n",
    "    context = (df_dist[\"text\"].values[0])\n",
    "    \n",
    "    print(f\"Context used: {context}\")\n",
    "    return prompt_template.format(context, question)"
   ]
  },
  {
   "cell_type": "code",
   "execution_count": 41,
   "id": "4615caca",
   "metadata": {},
   "outputs": [
    {
     "name": "stdout",
     "output_type": "stream",
     "text": [
      "Context used: Best Director - Christopher Nolan – Oppenheimer ‡\n"
     ]
    },
    {
     "data": {
      "text/plain": [
       "'\\n                    Answer the question based on the context below, and if the question\\n                    can\\'t be answered based on the context, say \"I don\\'t know\"\\n\\n                    Context: \\n\\n                    Best Director - Christopher Nolan – Oppenheimer ‡\\n\\n                    ---\\n\\n                    Question: \\n\"Who was the winner of the Oscar for Best Director in the 2024 Oscars?\"\\n\\n\\n                    Answer:\\n                    '"
      ]
     },
     "execution_count": 41,
     "metadata": {},
     "output_type": "execute_result"
    }
   ],
   "source": [
    "create_prompt(question1, df_emb)"
   ]
  },
  {
   "cell_type": "markdown",
   "id": "1783f146",
   "metadata": {},
   "source": [
    "## Custom Performance Demonstration\n",
    "\n",
    "TODO: In the cells below, demonstrate the performance of your custom query using at least 2 questions. For each question, show the answer from a basic `Completion` model query as well as the answer from your custom query."
   ]
  },
  {
   "cell_type": "markdown",
   "id": "4f11fdc0",
   "metadata": {},
   "source": [
    "### Question 1"
   ]
  },
  {
   "cell_type": "code",
   "execution_count": 42,
   "id": "8db4ced3",
   "metadata": {},
   "outputs": [],
   "source": [
    "question1 = \"\"\"\n",
    "\"Who was the winner of the Oscar for Best Director in the 2024 Oscars?\"\n",
    "\"\"\""
   ]
  },
  {
   "cell_type": "code",
   "execution_count": 43,
   "id": "4901c850",
   "metadata": {},
   "outputs": [
    {
     "name": "stdout",
     "output_type": "stream",
     "text": [
      "As of now, the 2024 Oscars have not yet taken place, so there is no information available on who the winner of the Oscar for Best Director will be.\n"
     ]
    }
   ],
   "source": [
    "initial_answer = openai.Completion.create(\n",
    "    model=\"gpt-3.5-turbo-instruct\",\n",
    "    prompt=question1,\n",
    "    max_tokens=200\n",
    ")[\"choices\"][0][\"text\"].strip()\n",
    "\n",
    "print(initial_answer)"
   ]
  },
  {
   "cell_type": "code",
   "execution_count": 44,
   "id": "bd7a093b",
   "metadata": {},
   "outputs": [
    {
     "name": "stdout",
     "output_type": "stream",
     "text": [
      "Context used: Best Director - Christopher Nolan – Oppenheimer ‡\n",
      "Christopher Nolan\n"
     ]
    }
   ],
   "source": [
    "improved_answer = openai.Completion.create(\n",
    "    model=\"gpt-3.5-turbo-instruct\",\n",
    "    prompt=create_prompt(question1, df_emb),\n",
    "    max_tokens=200\n",
    ")[\"choices\"][0][\"text\"].strip()\n",
    "\n",
    "print(improved_answer)"
   ]
  },
  {
   "cell_type": "markdown",
   "id": "6e86e37c",
   "metadata": {},
   "source": [
    "### Question 2"
   ]
  },
  {
   "cell_type": "code",
   "execution_count": 45,
   "id": "6f646989",
   "metadata": {},
   "outputs": [],
   "source": [
    "question2 = \"\"\"\n",
    "\"Do you know who was the best supporting acctress winner in the 2024 Oscars?\"\n",
    "\"\"\""
   ]
  },
  {
   "cell_type": "code",
   "execution_count": 46,
   "id": "11c07a54",
   "metadata": {},
   "outputs": [
    {
     "name": "stdout",
     "output_type": "stream",
     "text": [
      "I cannot answer this question as the 2024 Oscars have not yet happened and the winner for Best Supporting Actress has not yet been announced.\n"
     ]
    }
   ],
   "source": [
    "initial_answer = openai.Completion.create(\n",
    "    model=\"gpt-3.5-turbo-instruct\",\n",
    "    prompt=question2,\n",
    "    max_tokens=200\n",
    ")[\"choices\"][0][\"text\"].strip()\n",
    "\n",
    "print(initial_answer)"
   ]
  },
  {
   "cell_type": "code",
   "execution_count": 48,
   "id": "aa967cec",
   "metadata": {},
   "outputs": [
    {
     "name": "stdout",
     "output_type": "stream",
     "text": [
      "Context used: Best Supporting Actress - Da'Vine Joy Randolph – The Holdovers as Mary Lamb ‡\n",
      "Da'Vine Joy Randolph\n"
     ]
    }
   ],
   "source": [
    "improved_answer = openai.Completion.create(\n",
    "    model=\"gpt-3.5-turbo-instruct\",\n",
    "    prompt=create_prompt(question2, df_emb),\n",
    "    max_tokens=200\n",
    ")[\"choices\"][0][\"text\"].strip()\n",
    "\n",
    "print(improved_answer)"
   ]
  },
  {
   "cell_type": "code",
   "execution_count": null,
   "id": "b2d7d437",
   "metadata": {},
   "outputs": [],
   "source": []
  }
 ],
 "metadata": {
  "kernelspec": {
   "display_name": "Python 3 (ipykernel)",
   "language": "python",
   "name": "python3"
  },
  "language_info": {
   "codemirror_mode": {
    "name": "ipython",
    "version": 3
   },
   "file_extension": ".py",
   "mimetype": "text/x-python",
   "name": "python",
   "nbconvert_exporter": "python",
   "pygments_lexer": "ipython3",
   "version": "3.9.18"
  }
 },
 "nbformat": 4,
 "nbformat_minor": 5
}
